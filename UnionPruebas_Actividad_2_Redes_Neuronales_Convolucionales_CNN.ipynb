{
  "cells": [
    {
      "cell_type": "code",
      "execution_count": 1,
      "metadata": {
        "id": "bAZ7bv9rgDUE"
      },
      "outputs": [
        {
          "name": "stderr",
          "output_type": "stream",
          "text": [
            "2023-05-19 13:16:02.602208: I tensorflow/core/util/port.cc:110] oneDNN custom operations are on. You may see slightly different numerical results due to floating-point round-off errors from different computation orders. To turn them off, set the environment variable `TF_ENABLE_ONEDNN_OPTS=0`.\n",
            "2023-05-19 13:16:02.604673: I tensorflow/tsl/cuda/cudart_stub.cc:28] Could not find cuda drivers on your machine, GPU will not be used.\n",
            "2023-05-19 13:16:02.659520: I tensorflow/tsl/cuda/cudart_stub.cc:28] Could not find cuda drivers on your machine, GPU will not be used.\n",
            "2023-05-19 13:16:02.660141: I tensorflow/core/platform/cpu_feature_guard.cc:182] This TensorFlow binary is optimized to use available CPU instructions in performance-critical operations.\n",
            "To enable the following instructions: AVX2 AVX512F AVX512_VNNI FMA, in other operations, rebuild TensorFlow with the appropriate compiler flags.\n",
            "2023-05-19 13:16:03.422357: W tensorflow/compiler/tf2tensorrt/utils/py_utils.cc:38] TF-TRT Warning: Could not find TensorRT\n"
          ]
        }
      ],
      "source": [
        "import cv2\n",
        "import os\n",
        "import numpy as np \n",
        "import keras\n",
        "from tensorflow import keras\n",
        "import matplotlib.pyplot as plt\n",
        "import glob\n",
        "import tensorflow as tf"
      ]
    },
    {
      "cell_type": "code",
      "execution_count": null,
      "metadata": {},
      "outputs": [],
      "source": [
        "from keras.preprocessing.image import ImageDataGenerator\n",
        "from keras.models import Sequential\n",
        "from keras.layers import Conv2D, MaxPooling2D, Flatten, Dense, Dropout \n",
        "from keras.optimizers import Adam\n",
        "from keras.callbacks import ModelCheckpoint\n",
        "from sklearn.model_selection import train_test_split\n",
        "from keras.utils import to_categorical\n",
        "import numpy as np\n",
        "from keras.callbacks import ModelCheckpoint, EarlyStopping"
      ]
    },
    {
      "cell_type": "code",
      "execution_count": 27,
      "metadata": {
        "id": "IfEK6tdngI6p"
      },
      "outputs": [],
      "source": [
        "# # Primero, bajamos los datos de entrenamiento\n",
        "# keras.utils.get_file(fname=\"simpsons_train.tar.gz\", \n",
        "#                     origin=\"https://onedrive.live.com/download?cid=C506CF0A4F373B0F&resid=C506CF0A4F373B0F%219337&authkey=AMzI92bJPx8Sd60\")\n",
        "\n",
        "# # Descomprimimos el archivo\n",
        "# !tar -xzf /root/.keras/datasets/simpsons_train.tar.gz -C /root/.keras/datasets\n",
        "\n",
        "\n",
        "# # Hacemos lo mismo con los datos de test\n",
        "# keras.utils.get_file(fname=\"simpsons_test.tar.gz\", \n",
        "#                     origin=\"https://onedrive.live.com/download?cid=C506CF0A4F373B0F&resid=C506CF0A4F373B0F%219341&authkey=ANnjK3Uq1FhuAe8\")\n",
        "# !tar -xzf /root/.keras/datasets/simpsons_test.tar.gz -C /root/.keras/datasets"
      ]
    },
    {
      "cell_type": "code",
      "execution_count": 3,
      "metadata": {
        "id": "5FhI6rc5gI_U"
      },
      "outputs": [],
      "source": [
        "# Esta variable contiene un mapeo de número de clase a personaje.\n",
        "# Utilizamos sólo los 18 personajes del dataset que tienen más imágenes.\n",
        "MAP_CHARACTERS = {\n",
        "    0: 'abraham_grampa_simpson', 1: 'apu_nahasapeemapetilon', 2: 'bart_simpson',\n",
        "    3: 'charles_montgomery_burns', 4: 'chief_wiggum', 5: 'comic_book_guy', 6: 'edna_krabappel', \n",
        "    7: 'homer_simpson', 8: 'kent_brockman', 9: 'krusty_the_clown', 10: 'lisa_simpson', \n",
        "    11: 'marge_simpson', 12: 'milhouse_van_houten', 13: 'moe_szyslak', \n",
        "    14: 'ned_flanders', 15: 'nelson_muntz', 16: 'principal_skinner', 17: 'sideshow_bob'\n",
        "}\n",
        "\n",
        "# Vamos a standarizar todas las imágenes a tamaño 64x64\n",
        "IMG_SIZE = 64"
      ]
    },
    {
      "cell_type": "code",
      "execution_count": 24,
      "metadata": {},
      "outputs": [],
      "source": [
        "class myCallback(tf.keras.callbacks.Callback):\n",
        "    def on_epoch_end(self, epoch, logs={}):\n",
        "        accuracy = 0.85\n",
        "        if(logs.get('val_accuracy')> accuracy):\n",
        "            print(\"\\nAlcanzado el {}% de precisión, se cancela el entrenamiento!!\".format(accuracy))\n",
        "            self.model.stop_training = True"
      ]
    },
    {
      "cell_type": "code",
      "execution_count": 25,
      "metadata": {},
      "outputs": [],
      "source": [
        "callback = myCallback()"
      ]
    },
    {
      "cell_type": "code",
      "execution_count": 4,
      "metadata": {
        "id": "PYUQPIjMgJCe"
      },
      "outputs": [],
      "source": [
        "def load_train_set(dirname, map_characters, verbose=True):\n",
        "    \"\"\"Esta función carga los datos de training en imágenes.\n",
        "    \n",
        "    Como las imágenes tienen tamaños distintas, utilizamos la librería opencv\n",
        "    para hacer un resize y adaptarlas todas a tamaño IMG_SIZE x IMG_SIZE.\n",
        "    \n",
        "    Args:\n",
        "        dirname: directorio completo del que leer los datos\n",
        "        map_characters: variable de mapeo entre labels y personajes\n",
        "        verbose: si es True, muestra información de las imágenes cargadas\n",
        "     \n",
        "    Returns:\n",
        "        X, y: X es un array con todas las imágenes cargadas con tamaño\n",
        "                IMG_SIZE x IMG_SIZE\n",
        "              y es un array con las labels de correspondientes a cada imagen\n",
        "    \"\"\"\n",
        "    X_train = []\n",
        "    y_train = []\n",
        "    for label, character in map_characters.items():        \n",
        "        files = os.listdir(os.path.join(dirname, character))\n",
        "        images = [file for file in files if file.endswith(\"jpg\")]\n",
        "        if verbose:\n",
        "          print(\"Leyendo {} imágenes encontradas de {}\".format(len(images), character))\n",
        "        for image_name in images:\n",
        "            image = cv2.imread(os.path.join(dirname, character, image_name))\n",
        "            X_train.append(cv2.resize(image,(IMG_SIZE, IMG_SIZE)))\n",
        "            y_train.append(label)\n",
        "    return np.array(X_train), np.array(y_train)"
      ]
    },
    {
      "cell_type": "code",
      "execution_count": 5,
      "metadata": {
        "id": "lwpNn_UJgJFY"
      },
      "outputs": [],
      "source": [
        "def load_test_set(dirname, map_characters, verbose=True):\n",
        "    \"\"\"Esta función funciona de manera equivalente a la función load_train_set\n",
        "    pero cargando los datos de test.\"\"\"\n",
        "    X_test = []\n",
        "    y_test = []\n",
        "    reverse_dict = {v: k for k, v in map_characters.items()}\n",
        "    for filename in glob.glob(dirname + '/*.*'):\n",
        "        char_name = \"_\".join(filename.split('/')[-1].split('_')[:-1])\n",
        "        if char_name in reverse_dict:\n",
        "            image = cv2.imread(filename)\n",
        "            image = cv2.resize(image, (IMG_SIZE, IMG_SIZE))\n",
        "            X_test.append(image)\n",
        "            y_test.append(reverse_dict[char_name])\n",
        "    if verbose:\n",
        "        print(\"Leídas {} imágenes de test\".format(len(X_test)))\n",
        "    return np.array(X_test), np.array(y_test)\n"
      ]
    },
    {
      "cell_type": "code",
      "execution_count": 8,
      "metadata": {
        "colab": {
          "base_uri": "https://localhost:8080/"
        },
        "id": "hjO9gj-rgJH2",
        "outputId": "f511ae3f-c0af-4e78-f907-6496e224ef10"
      },
      "outputs": [
        {
          "name": "stdout",
          "output_type": "stream",
          "text": [
            "Leyendo 913 imágenes encontradas de abraham_grampa_simpson\n",
            "Leyendo 623 imágenes encontradas de apu_nahasapeemapetilon\n",
            "Leyendo 1342 imágenes encontradas de bart_simpson\n",
            "Leyendo 1193 imágenes encontradas de charles_montgomery_burns\n",
            "Leyendo 986 imágenes encontradas de chief_wiggum\n",
            "Leyendo 469 imágenes encontradas de comic_book_guy\n",
            "Leyendo 457 imágenes encontradas de edna_krabappel\n",
            "Leyendo 2246 imágenes encontradas de homer_simpson\n",
            "Leyendo 498 imágenes encontradas de kent_brockman\n",
            "Leyendo 1206 imágenes encontradas de krusty_the_clown\n",
            "Leyendo 1354 imágenes encontradas de lisa_simpson\n",
            "Leyendo 1291 imágenes encontradas de marge_simpson\n",
            "Leyendo 1079 imágenes encontradas de milhouse_van_houten\n",
            "Leyendo 1452 imágenes encontradas de moe_szyslak\n",
            "Leyendo 1454 imágenes encontradas de ned_flanders\n",
            "Leyendo 358 imágenes encontradas de nelson_muntz\n",
            "Leyendo 1194 imágenes encontradas de principal_skinner\n",
            "Leyendo 877 imágenes encontradas de sideshow_bob\n",
            "Leídas 890 imágenes de test\n"
          ]
        }
      ],
      "source": [
        "# Cargamos los datos. Si no estás trabajando en colab, cambia los paths por\n",
        "# los de los ficheros donde hayas descargado los datos.\n",
        "DATASET_TRAIN_PATH_COLAB = \"/home/jesus/.keras/datasets/simpsons\"\n",
        "DATASET_TEST_PATH_COLAB = \"/home/jesus/.keras/datasets/simpsons_testset\"\n",
        "\n",
        "X, y = load_train_set(DATASET_TRAIN_PATH_COLAB, MAP_CHARACTERS)\n",
        "X_t, y_t = load_test_set(DATASET_TEST_PATH_COLAB, MAP_CHARACTERS)"
      ]
    },
    {
      "cell_type": "code",
      "execution_count": 9,
      "metadata": {
        "id": "EGeDc4hIgJLE"
      },
      "outputs": [],
      "source": [
        "# Vamos a barajar aleatoriamente los datos. Esto es importante ya que si no\n",
        "# lo hacemos y, por ejemplo, cogemos el 20% de los datos finales como validation\n",
        "# set, estaremos utilizando solo un pequeño número de personajes, ya que\n",
        "# las imágenes se leen secuencialmente personaje a personaje.\n",
        "perm = np.random.permutation(len(X))\n",
        "X, y = X[perm], y[perm]"
      ]
    },
    {
      "cell_type": "code",
      "execution_count": 10,
      "metadata": {
        "colab": {
          "base_uri": "https://localhost:8080/",
          "height": 449
        },
        "id": "pZSBpbBIgJNq",
        "outputId": "72fbbbfc-1b47-498d-af5a-a750cddbfc78"
      },
      "outputs": [
        {
          "data": {
            "text/plain": [
              "<matplotlib.image.AxesImage at 0x7f5c44fbe590>"
            ]
          },
          "execution_count": 10,
          "metadata": {},
          "output_type": "execute_result"
        },
        {
          "data": {
            "image/png": "[encoded data removed]",
            "text/plain": [
              "<Figure size 640x480 with 1 Axes>"
            ]
          },
          "metadata": {},
          "output_type": "display_data"
        }
      ],
      "source": [
        "plt.imshow(X_t[2]) # recordad que siempre es preferible trabajar en blanco y negro\n"
      ]
    },
    {
      "attachments": {},
      "cell_type": "markdown",
      "metadata": {
        "id": "2S2nTZqXN2Wt"
      },
      "source": [
        "Prueba batchNormalize\n"
      ]
    },
    {
      "cell_type": "code",
      "execution_count": 11,
      "metadata": {
        "id": "1JN5XljtNjIo"
      },
      "outputs": [],
      "source": [
        "from keras.preprocessing.image import ImageDataGenerator\n",
        "from keras.models import Sequential\n",
        "from keras.layers import Conv2D, MaxPooling2D, Flatten, Dense, Dropout, BatchNormalization\n",
        "from keras.optimizers import Adam\n",
        "from keras.callbacks import ModelCheckpoint\n",
        "from sklearn.model_selection import train_test_split\n",
        "from keras.utils import to_categorical\n",
        "import numpy as np\n",
        "import matplotlib.pyplot as plt"
      ]
    },
    {
      "cell_type": "code",
      "execution_count": 12,
      "metadata": {
        "id": "CL6hyQ09N1Y8"
      },
      "outputs": [],
      "source": [
        "X_scaled = X / 255.0\n",
        "y = y.astype('int')"
      ]
    },
    {
      "cell_type": "code",
      "execution_count": 13,
      "metadata": {
        "id": "p0JEc1Kzj1fi"
      },
      "outputs": [],
      "source": [
        "from sklearn.model_selection import train_test_split\n",
        "\n",
        "X_train, X_valid, y_train, y_valid = train_test_split(X_scaled, y, test_size=0.2, random_state=0)"
      ]
    },
    {
      "cell_type": "code",
      "execution_count": 14,
      "metadata": {
        "id": "Zw7VFEoqN1Fs"
      },
      "outputs": [],
      "source": [
        "model = Sequential([\n",
        "  Conv2D(32, (3, 3), activation='relu', input_shape=(64, 64, 3)),\n",
        "  BatchNormalization(),\n",
        "  MaxPooling2D(2, 2),\n",
        "  Conv2D(64, (3, 3), activation='relu'),\n",
        "  BatchNormalization(),\n",
        "  MaxPooling2D(2, 2),\n",
        "  Conv2D(128, (3, 3), activation='relu'),\n",
        "  BatchNormalization(),\n",
        "  MaxPooling2D(2, 2),\n",
        "  Flatten(),\n",
        "  Dropout(0.2),\n",
        "  Dense(512, activation='relu'),\n",
        "  Dense(18, activation='softmax')\n",
        "])"
      ]
    },
    {
      "cell_type": "code",
      "execution_count": 16,
      "metadata": {
        "id": "mL_SkHl6N03D"
      },
      "outputs": [],
      "source": [
        "#Se compila el modelo, se especifica la función de pérdida categórica entrecruzada, el optimizador Adam y la métrica de precisión.\n",
        "model.compile(loss='categorical_crossentropy', optimizer='adam', metrics=['accuracy'])"
      ]
    },
    {
      "cell_type": "code",
      "execution_count": 17,
      "metadata": {
        "id": "3lW11s8gNi46"
      },
      "outputs": [],
      "source": [
        "y_train = to_categorical(y_train, num_classes=18)\n",
        "y_valid = to_categorical(y_valid, num_classes=18)\n"
      ]
    },
    {
      "cell_type": "code",
      "execution_count": 26,
      "metadata": {
        "colab": {
          "base_uri": "https://localhost:8080/"
        },
        "id": "fuvkXEX1Nipq",
        "outputId": "65735b98-2ce8-4389-9782-d570c522a6bb"
      },
      "outputs": [
        {
          "name": "stdout",
          "output_type": "stream",
          "text": [
            "Epoch 1/40\n",
            "475/475 - 28s - loss: 0.0915 - accuracy: 0.9720 - val_loss: 1.4387 - val_accuracy: 0.7655 - 28s/epoch - 58ms/step\n",
            "Epoch 2/40\n",
            "475/475 - 28s - loss: 0.0734 - accuracy: 0.9768 - val_loss: 1.6382 - val_accuracy: 0.7697 - 28s/epoch - 60ms/step\n",
            "Epoch 3/40\n",
            "475/475 - 29s - loss: 0.0830 - accuracy: 0.9756 - val_loss: 1.0232 - val_accuracy: 0.8223 - 29s/epoch - 61ms/step\n",
            "Epoch 4/40\n",
            "475/475 - 30s - loss: 0.0877 - accuracy: 0.9768 - val_loss: 1.4187 - val_accuracy: 0.7997 - 30s/epoch - 62ms/step\n",
            "Epoch 5/40\n",
            "475/475 - 31s - loss: 0.0720 - accuracy: 0.9793 - val_loss: 1.0215 - val_accuracy: 0.8273 - 31s/epoch - 66ms/step\n",
            "Epoch 6/40\n",
            "475/475 - 29s - loss: 0.0529 - accuracy: 0.9858 - val_loss: 1.1482 - val_accuracy: 0.8394 - 29s/epoch - 62ms/step\n",
            "Epoch 7/40\n",
            "475/475 - 30s - loss: 0.0665 - accuracy: 0.9806 - val_loss: 1.2827 - val_accuracy: 0.8286 - 30s/epoch - 63ms/step\n",
            "Epoch 8/40\n",
            "475/475 - 28s - loss: 0.0611 - accuracy: 0.9836 - val_loss: 1.1248 - val_accuracy: 0.8134 - 28s/epoch - 59ms/step\n",
            "Epoch 9/40\n",
            "475/475 - 29s - loss: 0.0609 - accuracy: 0.9818 - val_loss: 1.1391 - val_accuracy: 0.8429 - 29s/epoch - 61ms/step\n",
            "Epoch 10/40\n",
            "475/475 - 28s - loss: 0.0563 - accuracy: 0.9856 - val_loss: 1.7064 - val_accuracy: 0.8036 - 28s/epoch - 60ms/step\n",
            "Epoch 11/40\n",
            "475/475 - 28s - loss: 0.0647 - accuracy: 0.9821 - val_loss: 1.0917 - val_accuracy: 0.8336 - 28s/epoch - 58ms/step\n",
            "Epoch 12/40\n",
            "475/475 - 28s - loss: 0.0614 - accuracy: 0.9842 - val_loss: 1.1859 - val_accuracy: 0.8439 - 28s/epoch - 58ms/step\n",
            "Epoch 13/40\n",
            "475/475 - 29s - loss: 0.0441 - accuracy: 0.9877 - val_loss: 1.2011 - val_accuracy: 0.8292 - 29s/epoch - 61ms/step\n",
            "Epoch 14/40\n",
            "475/475 - 29s - loss: 0.0523 - accuracy: 0.9859 - val_loss: 1.3755 - val_accuracy: 0.8307 - 29s/epoch - 61ms/step\n",
            "Epoch 15/40\n",
            "475/475 - 31s - loss: 0.0674 - accuracy: 0.9826 - val_loss: 1.1155 - val_accuracy: 0.8457 - 31s/epoch - 65ms/step\n",
            "Epoch 16/40\n",
            "\n",
            "Alcanzado el 0.85% de precisión, se cancela el entrenamiento!!\n",
            "475/475 - 29s - loss: 0.0437 - accuracy: 0.9882 - val_loss: 1.1940 - val_accuracy: 0.8510 - 29s/epoch - 62ms/step\n"
          ]
        }
      ],
      "source": [
        "history = model.fit(X_train, y_train,\n",
        "                    epochs=40,\n",
        "                    validation_data=(X_valid, y_valid),\n",
        "                    verbose=2,\n",
        "                    callbacks=callback)"
      ]
    },
    {
      "cell_type": "code",
      "execution_count": null,
      "metadata": {
        "colab": {
          "base_uri": "https://localhost:8080/",
          "height": 469
        },
        "id": "qQq57PbVNicM",
        "outputId": "d4700a1b-5f04-463a-b691-cfb4b9d54653"
      },
      "outputs": [
        {
          "data": {
            "image/png": "[encoded data removed]",
            "text/plain": [
              "<Figure size 640x480 with 1 Axes>"
            ]
          },
          "metadata": {},
          "output_type": "display_data"
        },
        {
          "data": {
            "text/plain": [
              "<Figure size 640x480 with 0 Axes>"
            ]
          },
          "metadata": {},
          "output_type": "display_data"
        }
      ],
      "source": [
        "import matplotlib.pyplot as plt\n",
        "acc = history.history['accuracy']\n",
        "val_acc = history.history['val_accuracy']\n",
        "loss = history.history['loss']\n",
        "val_loss = history.history['val_loss']\n",
        "\n",
        "epochs = range(len(acc))\n",
        "\n",
        "plt.plot(epochs, acc, 'r', label='Training accuracy')\n",
        "plt.plot(epochs, val_acc, 'b', label='Validation accuracy')\n",
        "plt.title('Training and validation accuracy')\n",
        "plt.legend(loc=0)\n",
        "plt.figure()\n",
        "\n",
        "\n",
        "plt.show()"
      ]
    },
    {
      "attachments": {},
      "cell_type": "markdown",
      "metadata": {
        "id": "0xQq5tCNNHSL"
      },
      "source": [
        "Prueba\n",
        "\n",
        "El modelo  tiene un total de 15 capas:\n",
        "\n",
        "3 capas Conv2D (convolucionales).\n",
        "3 capas BatchNormalization (normalización por lotes).\n",
        "3 capas MaxPooling2D (reducción de dimensionalidad).\n",
        "1 capa Flatten.\n",
        "1 capa Dropout (regularización).\n",
        "4 capas Dense (completamente conectadas)."
      ]
    },
    {
      "cell_type": "code",
      "execution_count": null,
      "metadata": {
        "id": "b0bi-U2vMFUU"
      },
      "outputs": [],
      "source": [
        "model = Sequential([\n",
        "\n",
        "  Conv2D(32, (3, 3), activation='relu', input_shape=(64, 64, 3)),  # Capa de convolución con 32 filtros de tamaño 3x3 y función de activación ReLU\n",
        "  BatchNormalization(),  # Capa de normalización por lotes\n",
        "  MaxPooling2D(2, 2),  # Capa de reducción de dimensionalidad mediante el máximo pooling\n",
        "\n",
        "  Conv2D(64, (3, 3), activation='relu'),  # Otra capa de convolución con 64 filtros de tamaño 3x3 y función de activación ReLU\n",
        "  BatchNormalization(),  # Capa de normalización por lotes\n",
        "  MaxPooling2D(2, 2),  # Capa de reducción de dimensionalidad mediante el máximo pooling\n",
        "\n",
        "  Conv2D(128, (3, 3), activation='relu'),  # Otra capa de convolución con 128 filtros de tamaño 3x3 y función de activación ReLU\n",
        "  BatchNormalization(),  # Capa de normalización por lotes\n",
        "  MaxPooling2D(2, 2),  # Capa de reducción de dimensionalidad mediante el máximo pooling\n",
        "\n",
        "  Flatten(),  # Capa de aplanamiento de la salida para poder conectarla a capas densas\n",
        "  Dropout(0.2),  # Capa de dropout para regularizar la red y prevenir el sobreajuste\n",
        "\n",
        "  Dense(512, activation='relu'),  # Capa densa completamente conectada con 512 neuronas y función de activación ReLU\n",
        "  Dense(256, activation='relu'),  # Otra capa densa con 256 neuronas y función de activación ReLU\n",
        "  Dense(128, activation='relu'),  # Otra capa densa con 128 neuronas y función de activación ReLU\n",
        "\n",
        "  Dense(18, activation='softmax'),  # Capa de salida con 18 neuronas (una para cada clase) y función de activación softmax\n",
        "\n",
        "])\n",
        "\n",
        "#Se compila el modelo, se especifica la función de pérdida categórica entrecruzada, el optimizador Adam y la métrica de precisión.\n",
        "model.compile(loss='categorical_crossentropy', optimizer='adam', metrics=['accuracy'])"
      ]
    },
    {
      "cell_type": "code",
      "execution_count": 30,
      "metadata": {
        "colab": {
          "base_uri": "https://localhost:8080/"
        },
        "id": "QRSLkCDMMmhL",
        "outputId": "873e20e4-8812-476c-b095-305e1b03a12f"
      },
      "outputs": [
        {
          "name": "stdout",
          "output_type": "stream",
          "text": [
            "Epoch 1/20\n",
            "475/475 - 28s - loss: 0.0498 - accuracy: 0.9883 - val_loss: 1.2841 - val_accuracy: 0.8386 - 28s/epoch - 59ms/step\n",
            "Epoch 2/20\n",
            "475/475 - 29s - loss: 0.0462 - accuracy: 0.9889 - val_loss: 1.1840 - val_accuracy: 0.8539 - 29s/epoch - 60ms/step\n",
            "Epoch 3/20\n",
            "475/475 - 29s - loss: 0.0297 - accuracy: 0.9926 - val_loss: 1.2962 - val_accuracy: 0.8323 - 29s/epoch - 62ms/step\n",
            "Epoch 4/20\n",
            "475/475 - 30s - loss: 0.0542 - accuracy: 0.9878 - val_loss: 1.8722 - val_accuracy: 0.7757 - 30s/epoch - 63ms/step\n",
            "Epoch 5/20\n",
            "475/475 - 31s - loss: 0.0499 - accuracy: 0.9878 - val_loss: 1.8950 - val_accuracy: 0.7641 - 31s/epoch - 64ms/step\n",
            "Epoch 6/20\n",
            "475/475 - 29s - loss: 0.0415 - accuracy: 0.9896 - val_loss: 1.1936 - val_accuracy: 0.8531 - 29s/epoch - 62ms/step\n",
            "Epoch 7/20\n",
            "475/475 - 29s - loss: 0.0422 - accuracy: 0.9898 - val_loss: 1.4977 - val_accuracy: 0.8347 - 29s/epoch - 60ms/step\n",
            "Epoch 7: early stopping\n"
          ]
        }
      ],
      "source": [
        "early_stopping = EarlyStopping(monitor='val_accuracy', patience=5, mode='max', verbose=1)\n",
        "\n",
        "history = model.fit(X_train, y_train,\n",
        "                    epochs=20,\n",
        "                    validation_data=(X_valid, y_valid),\n",
        "                    callbacks=[early_stopping],\n",
        "                    verbose=2)"
      ]
    },
    {
      "attachments": {},
      "cell_type": "markdown",
      "metadata": {
        "id": "Zp9CfN-5L2GX"
      },
      "source": [
        "Prueba capa convolucional."
      ]
    },
    {
      "cell_type": "code",
      "execution_count": null,
      "metadata": {
        "colab": {
          "base_uri": "https://localhost:8080/"
        },
        "id": "ni7_VTa-I-pd",
        "outputId": "e31b5cf2-50be-4df5-e987-d7770a3e9e40"
      },
      "outputs": [
        {
          "name": "stdout",
          "output_type": "stream",
          "text": [
            "Model: \"sequential_2\"\n",
            "_________________________________________________________________\n",
            " Layer (type)                Output Shape              Param #   \n",
            "=================================================================\n",
            " conv2d_6 (Conv2D)           (None, 62, 62, 32)        896       \n",
            "                                                                 \n",
            " max_pooling2d_6 (MaxPooling  (None, 31, 31, 32)       0         \n",
            " 2D)                                                             \n",
            "                                                                 \n",
            " conv2d_7 (Conv2D)           (None, 29, 29, 64)        18496     \n",
            "                                                                 \n",
            " max_pooling2d_7 (MaxPooling  (None, 14, 14, 64)       0         \n",
            " 2D)                                                             \n",
            "                                                                 \n",
            " conv2d_8 (Conv2D)           (None, 12, 12, 128)       73856     \n",
            "                                                                 \n",
            " max_pooling2d_8 (MaxPooling  (None, 6, 6, 128)        0         \n",
            " 2D)                                                             \n",
            "                                                                 \n",
            " flatten_2 (Flatten)         (None, 4608)              0         \n",
            "                                                                 \n",
            " dropout_2 (Dropout)         (None, 4608)              0         \n",
            "                                                                 \n",
            " dense_6 (Dense)             (None, 512)               2359808   \n",
            "                                                                 \n",
            " dense_7 (Dense)             (None, 18)                9234      \n",
            "                                                                 \n",
            "=================================================================\n",
            "Total params: 2,462,290\n",
            "Trainable params: 2,462,290\n",
            "Non-trainable params: 0\n",
            "_________________________________________________________________\n"
          ]
        }
      ],
      "source": [
        "# La primera capa convolucional. Aplicamos 32 filtros de tamaño 3x3 a la imagen de entrada con una función de activación ReLU. Las imágenes de entrada son de 64x64 píxeles con 3 canales de color (RGB).\n",
        "#Después de cada capa convolucional, aplicamos una capa de max pooling para reducir las dimensiones espaciales de las características extraídas. Esta capa realiza un muestreo máximo en ventanas de tamaño 2x2.\n",
        "model = Sequential([\n",
        "    Conv2D(32, (3,3), activation='relu', input_shape=(64, 64, 3)),\n",
        "    MaxPooling2D(2, 2),\n",
        "    Conv2D(64, (3,3), activation='relu'),\n",
        "    MaxPooling2D(2,2),\n",
        "    Conv2D(128, (3,3), activation='relu'),\n",
        "    MaxPooling2D(2,2),\n",
        "    Flatten(),\n",
        "    Dropout(0.2), #Esta capa aplica regularización, lo que ayuda a prevenir el sobreajuste\n",
        "    Dense(512, activation='relu'), #Capa completamente conectada con 512 neuronas y una función de activación ReLU.\n",
        "    Dense(18, activation='softmax') #Capa de salida de 18 neuronas, una para cada clase de salida. La función de activación softmax la empleamos para obtener probabilidades de clasificación para cada clase.\n",
        "])"
      ]
    },
    {
      "attachments": {},
      "cell_type": "markdown",
      "metadata": {
        "id": "yjwFas-5gcZt"
      },
      "source": [
        "*Ejercicio*  Prueba fully connected. "
      ]
    },
    {
      "cell_type": "code",
      "execution_count": null,
      "metadata": {
        "id": "iMN2Obd3gJZW"
      },
      "outputs": [],
      "source": [
        "#definicion de la arquitectura del modelo secuencial. \n",
        "#Comenzamos con una capa convolucional con 32 filtros de tamaño (3, 3) y función de activación ReLU, seguida de una capa de pooling con tamaño de ventana (2, 2). \n",
        "#Luego agreamos dos capas convolucionales más con más filtros y capas de pooling correspondientes. \n",
        "#A continuación, se aplanan los mapas de características resultantes y se agrega una capa de dropout para evitar el sobreajuste. \n",
        "#Luego se agregan dos capas densamente conectadas, con la última capa utilizando una función de activación softmax para la clasificación de las 18 clases\n",
        "# Por ultimo el resumen del modelo, que incluye información. \n",
        "\n",
        "\n",
        "\n",
        "model = Sequential()\n",
        "#model.add(Conv2D(32, (3, 3), activation='relu', ))\n",
        "# model.add(BatchNormalization())\n",
        "# model.add(MaxPooling2D(2, 2))\n",
        "# model.add(Conv2D(64, (3, 3), activation='relu'))\n",
        "# model.add(BatchNormalization())\n",
        "# model.add(MaxPooling2D(2, 2))\n",
        "# model.add(Conv2D(128, (3, 3), activation='relu'))\n",
        "# model.add(BatchNormalization())\n",
        "# model.add(MaxPooling2D(2, 2))\n",
        "model.add(Flatten(input_shape=(64, 64, 3)))\n",
        "model.add(Dropout(0.2))\n",
        "model.add(Dense(512, activation='relu'))\n",
        "model.add(Dense(256, activation='relu'))\n",
        "model.add(Dense(128, activation='relu'))\n",
        "model.add(Dense(18, activation='softmax'))\n",
        "\n",
        "model.summary()\n"
      ]
    },
    {
      "cell_type": "code",
      "execution_count": null,
      "metadata": {
        "id": "9mVen28AgtMZ"
      },
      "outputs": [],
      "source": [
        "import matplotlib.pyplot as plt\n",
        "acc = history.history['accuracy']\n",
        "val_acc = history.history['val_accuracy']\n",
        "loss = history.history['loss']\n",
        "val_loss = history.history['val_loss']\n",
        "\n",
        "epochs = range(len(acc))\n",
        "\n",
        "plt.plot(epochs, acc, 'r', label='Training accuracy')\n",
        "plt.plot(epochs, val_acc, 'b', label='Validation accuracy')\n",
        "plt.title('Training and validation accuracy')\n",
        "plt.legend(loc=0)\n",
        "plt.figure()\n",
        "\n",
        "\n",
        "plt.show()"
      ]
    }
  ],
  "metadata": {
    "accelerator": "GPU",
    "colab": {
      "gpuType": "T4",
      "provenance": []
    },
    "gpuClass": "standard",
    "kernelspec": {
      "display_name": "Python 3",
      "name": "python3"
    },
    "language_info": {
      "codemirror_mode": {
        "name": "ipython",
        "version": 3
      },
      "file_extension": ".py",
      "mimetype": "text/x-python",
      "name": "python",
      "nbconvert_exporter": "python",
      "pygments_lexer": "ipython3",
      "version": "3.10.6"
    }
  },
  "nbformat": 4,
  "nbformat_minor": 0
}
