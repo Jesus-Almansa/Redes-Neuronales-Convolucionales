{
 "cells": [
  {
   "cell_type": "code",
   "execution_count": 6,
   "metadata": {
    "id": "bAZ7bv9rgDUE"
   },
   "outputs": [],
   "source": [
    "import cv2\n",
    "import os\n",
    "import numpy as np \n",
    "import keras\n",
    "from tensorflow import keras\n",
    "import matplotlib.pyplot as plt\n",
    "import glob\n",
    "import tensorflow as tf"
   ]
  },
  {
   "cell_type": "code",
   "execution_count": 7,
   "metadata": {},
   "outputs": [],
   "source": [
    "from keras.preprocessing.image import ImageDataGenerator\n",
    "from keras.models import Sequential\n",
    "from keras.layers import Conv2D, MaxPooling2D, Flatten, Dense, Dropout \n",
    "from keras.optimizers import Adam\n",
    "from keras.callbacks import ModelCheckpoint\n",
    "from sklearn.model_selection import train_test_split\n",
    "from keras.utils import to_categorical\n",
    "from keras.callbacks import ModelCheckpoint, EarlyStopping"
   ]
  },
  {
   "cell_type": "code",
   "execution_count": 8,
   "metadata": {
    "id": "IfEK6tdngI6p"
   },
   "outputs": [],
   "source": [
    "# # Primero, bajamos los datos de entrenamiento\n",
    "# keras.utils.get_file(fname=\"simpsons_train.tar.gz\", \n",
    "#                     origin=\"https://onedrive.live.com/download?cid=C506CF0A4F373B0F&resid=C506CF0A4F373B0F%219337&authkey=AMzI92bJPx8Sd60\")\n",
    "\n",
    "# # Descomprimimos el archivo\n",
    "# !tar -xzf /root/.keras/datasets/simpsons_train.tar.gz -C /root/.keras/datasets\n",
    "\n",
    "\n",
    "# # Hacemos lo mismo con los datos de test\n",
    "# keras.utils.get_file(fname=\"simpsons_test.tar.gz\", \n",
    "#                     origin=\"https://onedrive.live.com/download?cid=C506CF0A4F373B0F&resid=C506CF0A4F373B0F%219341&authkey=ANnjK3Uq1FhuAe8\")\n",
    "# !tar -xzf /root/.keras/datasets/simpsons_test.tar.gz -C /root/.keras/datasets"
   ]
  },
  {
   "cell_type": "code",
   "execution_count": 9,
   "metadata": {
    "id": "5FhI6rc5gI_U"
   },
   "outputs": [],
   "source": [
    "# Esta variable contiene un mapeo de número de clase a personaje.\n",
    "# Utilizamos sólo los 18 personajes del dataset que tienen más imágenes.\n",
    "MAP_CHARACTERS = {\n",
    "    0: 'abraham_grampa_simpson', 1: 'apu_nahasapeemapetilon', 2: 'bart_simpson',\n",
    "    3: 'charles_montgomery_burns', 4: 'chief_wiggum', 5: 'comic_book_guy', 6: 'edna_krabappel', \n",
    "    7: 'homer_simpson', 8: 'kent_brockman', 9: 'krusty_the_clown', 10: 'lisa_simpson', \n",
    "    11: 'marge_simpson', 12: 'milhouse_van_houten', 13: 'moe_szyslak', \n",
    "    14: 'ned_flanders', 15: 'nelson_muntz', 16: 'principal_skinner', 17: 'sideshow_bob'\n",
    "}\n",
    "\n",
    "# Vamos a standarizar todas las imágenes a tamaño 64x64\n",
    "IMG_SIZE = 64"
   ]
  },
  {
   "cell_type": "code",
   "execution_count": 10,
   "metadata": {},
   "outputs": [],
   "source": [
    "class myCallback(tf.keras.callbacks.Callback):\n",
    "    def on_epoch_end(self, epoch, logs={}):\n",
    "        accuracy = 0.85\n",
    "        if(logs.get('val_accuracy')> accuracy):\n",
    "            print(\"\\nAlcanzado el {}% de precisión, se cancela el entrenamiento!!\".format(accuracy))\n",
    "            self.model.stop_training = True"
   ]
  },
  {
   "cell_type": "code",
   "execution_count": 11,
   "metadata": {},
   "outputs": [],
   "source": [
    "callback = myCallback()"
   ]
  },
  {
   "cell_type": "code",
   "execution_count": 12,
   "metadata": {
    "id": "PYUQPIjMgJCe"
   },
   "outputs": [],
   "source": [
    "def load_train_set(dirname, map_characters, verbose=True):\n",
    "    \"\"\"Esta función carga los datos de training en imágenes.\n",
    "    \n",
    "    Como las imágenes tienen tamaños distintas, utilizamos la librería opencv\n",
    "    para hacer un resize y adaptarlas todas a tamaño IMG_SIZE x IMG_SIZE.\n",
    "    \n",
    "    Args:\n",
    "        dirname: directorio completo del que leer los datos\n",
    "        map_characters: variable de mapeo entre labels y personajes\n",
    "        verbose: si es True, muestra información de las imágenes cargadas\n",
    "     \n",
    "    Returns:\n",
    "        X, y: X es un array con todas las imágenes cargadas con tamaño\n",
    "                IMG_SIZE x IMG_SIZE\n",
    "              y es un array con las labels de correspondientes a cada imagen\n",
    "    \"\"\"\n",
    "    X_train = []\n",
    "    y_train = []\n",
    "    for label, character in map_characters.items():        \n",
    "        files = os.listdir(os.path.join(dirname, character))\n",
    "        images = [file for file in files if file.endswith(\"jpg\")]\n",
    "        if verbose:\n",
    "          print(\"Leyendo {} imágenes encontradas de {}\".format(len(images), character))\n",
    "        for image_name in images:\n",
    "            image = cv2.imread(os.path.join(dirname, character, image_name))\n",
    "            X_train.append(cv2.resize(image,(IMG_SIZE, IMG_SIZE)))\n",
    "            y_train.append(label)\n",
    "    return np.array(X_train), np.array(y_train)"
   ]
  },
  {
   "cell_type": "code",
   "execution_count": 13,
   "metadata": {
    "id": "lwpNn_UJgJFY"
   },
   "outputs": [],
   "source": [
    "def load_test_set(dirname, map_characters, verbose=True):\n",
    "    \"\"\"Esta función funciona de manera equivalente a la función load_train_set\n",
    "    pero cargando los datos de test.\"\"\"\n",
    "    X_test = []\n",
    "    y_test = []\n",
    "    reverse_dict = {v: k for k, v in map_characters.items()}\n",
    "    for filename in glob.glob(dirname + '/*.*'):\n",
    "        char_name = \"_\".join(filename.split('/')[-1].split('_')[:-1])\n",
    "        if char_name in reverse_dict:\n",
    "            image = cv2.imread(filename)\n",
    "            image = cv2.resize(image, (IMG_SIZE, IMG_SIZE))\n",
    "            X_test.append(image)\n",
    "            y_test.append(reverse_dict[char_name])\n",
    "    if verbose:\n",
    "        print(\"Leídas {} imágenes de test\".format(len(X_test)))\n",
    "    return np.array(X_test), np.array(y_test)\n"
   ]
  },
  {
   "cell_type": "code",
   "execution_count": 14,
   "metadata": {
    "colab": {
     "base_uri": "https://localhost:8080/"
    },
    "id": "hjO9gj-rgJH2",
    "outputId": "f511ae3f-c0af-4e78-f907-6496e224ef10"
   },
   "outputs": [
    {
     "name": "stdout",
     "output_type": "stream",
     "text": [
      "Leyendo 913 imágenes encontradas de abraham_grampa_simpson\n",
      "Leyendo 623 imágenes encontradas de apu_nahasapeemapetilon\n",
      "Leyendo 1342 imágenes encontradas de bart_simpson\n",
      "Leyendo 1193 imágenes encontradas de charles_montgomery_burns\n",
      "Leyendo 986 imágenes encontradas de chief_wiggum\n",
      "Leyendo 469 imágenes encontradas de comic_book_guy\n",
      "Leyendo 457 imágenes encontradas de edna_krabappel\n",
      "Leyendo 2246 imágenes encontradas de homer_simpson\n",
      "Leyendo 498 imágenes encontradas de kent_brockman\n",
      "Leyendo 1206 imágenes encontradas de krusty_the_clown\n",
      "Leyendo 1354 imágenes encontradas de lisa_simpson\n",
      "Leyendo 1291 imágenes encontradas de marge_simpson\n",
      "Leyendo 1079 imágenes encontradas de milhouse_van_houten\n",
      "Leyendo 1452 imágenes encontradas de moe_szyslak\n",
      "Leyendo 1454 imágenes encontradas de ned_flanders\n",
      "Leyendo 358 imágenes encontradas de nelson_muntz\n",
      "Leyendo 1194 imágenes encontradas de principal_skinner\n",
      "Leyendo 877 imágenes encontradas de sideshow_bob\n",
      "Leídas 890 imágenes de test\n"
     ]
    }
   ],
   "source": [
    "# Cargamos los datos. Si no estás trabajando en colab, cambia los paths por\n",
    "# los de los ficheros donde hayas descargado los datos.\n",
    "DATASET_TRAIN_PATH_COLAB = \"/home/jesus/.keras/datasets/simpsons\"\n",
    "DATASET_TEST_PATH_COLAB = \"/home/jesus/.keras/datasets/simpsons_testset\"\n",
    "\n",
    "X, y = load_train_set(DATASET_TRAIN_PATH_COLAB, MAP_CHARACTERS)\n",
    "X_test, y_test = load_test_set(DATASET_TEST_PATH_COLAB, MAP_CHARACTERS)"
   ]
  },
  {
   "cell_type": "code",
   "execution_count": 15,
   "metadata": {
    "id": "EGeDc4hIgJLE"
   },
   "outputs": [],
   "source": [
    "# Vamos a barajar aleatoriamente los datos. Esto es importante ya que si no\n",
    "# lo hacemos y, por ejemplo, cogemos el 20% de los datos finales como validation\n",
    "# set, estaremos utilizando solo un pequeño número de personajes, ya que\n",
    "# las imágenes se leen secuencialmente personaje a personaje.\n",
    "perm = np.random.permutation(len(X))\n",
    "X, y = X[perm], y[perm]"
   ]
  },
  {
   "cell_type": "code",
   "execution_count": 16,
   "metadata": {
    "colab": {
     "base_uri": "https://localhost:8080/",
     "height": 449
    },
    "id": "pZSBpbBIgJNq",
    "outputId": "72fbbbfc-1b47-498d-af5a-a750cddbfc78"
   },
   "outputs": [
    {
     "data": {
      "text/plain": [
       "<matplotlib.image.AxesImage at 0x7fd96e44b850>"
      ]
     },
     "execution_count": 16,
     "metadata": {},
     "output_type": "execute_result"
    },
    {
     "data": {
      "image/png": "[encoded data removed]",
      "text/plain": [
       "<Figure size 640x480 with 1 Axes>"
      ]
     },
     "metadata": {},
     "output_type": "display_data"
    }
   ],
   "source": [
    "plt.imshow(X_test[2]) # recordad que siempre es preferible trabajar en blanco y negro\n"
   ]
  },
  {
   "attachments": {},
   "cell_type": "markdown",
   "metadata": {
    "id": "2S2nTZqXN2Wt"
   },
   "source": [
    "Prueba batchNormalize\n"
   ]
  },
  {
   "cell_type": "code",
   "execution_count": 17,
   "metadata": {
    "id": "CL6hyQ09N1Y8"
   },
   "outputs": [],
   "source": [
    "X_scaled = X / 255.0\n",
    "X_test_scaled = X_test / 255.0\n",
    "y = y.astype('int')"
   ]
  },
  {
   "cell_type": "code",
   "execution_count": 18,
   "metadata": {
    "id": "p0JEc1Kzj1fi"
   },
   "outputs": [],
   "source": [
    "from sklearn.model_selection import train_test_split\n",
    "\n",
    "X_train, X_valid, y_train, y_valid = train_test_split(X_scaled, y, test_size=0.2, random_state=0)"
   ]
  },
  {
   "cell_type": "code",
   "execution_count": 19,
   "metadata": {},
   "outputs": [],
   "source": [
    "y_train = to_categorical(y_train, num_classes=18)\n",
    "y_valid = to_categorical(y_valid, num_classes=18)\n",
    "y_test = to_categorical(y_test, num_classes=18)"
   ]
  },
  {
   "attachments": {},
   "cell_type": "markdown",
   "metadata": {},
   "source": [
    "#### Observamos las dimensiones de los conjuntos de datos"
   ]
  },
  {
   "cell_type": "code",
   "execution_count": 20,
   "metadata": {},
   "outputs": [
    {
     "name": "stdout",
     "output_type": "stream",
     "text": [
      "Shape X_train: (15193, 64, 64, 3)\n",
      "Shape y_train: (15193, 18)\n",
      "Shape X_valid: (3799, 64, 64, 3)\n",
      "Shape y_valid: (3799, 18)\n"
     ]
    }
   ],
   "source": [
    "print(f'Shape X_train: {X_train.shape}')\n",
    "print(f'Shape y_train: {y_train.shape}')\n",
    "print(f'Shape X_valid: {X_valid.shape}')\n",
    "print(f'Shape y_valid: {y_valid.shape}')"
   ]
  },
  {
   "attachments": {},
   "cell_type": "markdown",
   "metadata": {},
   "source": [
    "#### Podemos desglosar esta información de la siguiente manera\n",
    "+ 15193 es el número de instancias que tenemos en la variable X_train\n",
    "+ 64 es el número de píxeles que tiene cada imagen, siendo de 64x64\n",
    "+ 3 es el número de canales de colores que contiene cada imagen\n",
    "\n",
    "Para los datos del target, es unidimensional"
   ]
  },
  {
   "attachments": {},
   "cell_type": "markdown",
   "metadata": {},
   "source": [
    "#### Definimos el early stopping para cortar el entrenamiento cuando el modelo deje de mejorar"
   ]
  },
  {
   "cell_type": "code",
   "execution_count": 23,
   "metadata": {},
   "outputs": [],
   "source": [
    "early_stopping = EarlyStopping(monitor='val_accuracy', patience=5, mode='max', verbose=1)"
   ]
  },
  {
   "attachments": {},
   "cell_type": "markdown",
   "metadata": {},
   "source": [
    "#### Creamos varias redes neuronales convolucionales que aprendan a diferenciar a los personajes"
   ]
  },
  {
   "cell_type": "code",
   "execution_count": 18,
   "metadata": {},
   "outputs": [
    {
     "name": "stdout",
     "output_type": "stream",
     "text": [
      "Epoch 1/40\n",
      "475/475 - 28s - loss: 1.6367 - accuracy: 0.5369 - val_loss: 1.7461 - val_accuracy: 0.5259 - 28s/epoch - 58ms/step\n",
      "Epoch 2/40\n",
      "475/475 - 27s - loss: 0.7678 - accuracy: 0.7682 - val_loss: 0.9658 - val_accuracy: 0.7131 - 27s/epoch - 57ms/step\n",
      "Epoch 3/40\n",
      "475/475 - 28s - loss: 0.4106 - accuracy: 0.8747 - val_loss: 1.1432 - val_accuracy: 0.6862 - 28s/epoch - 58ms/step\n",
      "Epoch 4/40\n",
      "475/475 - 28s - loss: 0.2247 - accuracy: 0.9296 - val_loss: 0.7368 - val_accuracy: 0.8084 - 28s/epoch - 58ms/step\n",
      "Epoch 5/40\n",
      "475/475 - 27s - loss: 0.1442 - accuracy: 0.9548 - val_loss: 0.8361 - val_accuracy: 0.8026 - 27s/epoch - 57ms/step\n",
      "Epoch 6/40\n",
      "475/475 - 27s - loss: 0.1439 - accuracy: 0.9552 - val_loss: 0.9765 - val_accuracy: 0.7757 - 27s/epoch - 57ms/step\n",
      "Epoch 7/40\n",
      "475/475 - 27s - loss: 0.1180 - accuracy: 0.9618 - val_loss: 1.1148 - val_accuracy: 0.7878 - 27s/epoch - 57ms/step\n",
      "Epoch 8/40\n",
      "475/475 - 27s - loss: 0.1222 - accuracy: 0.9635 - val_loss: 1.4718 - val_accuracy: 0.7210 - 27s/epoch - 57ms/step\n",
      "Epoch 9/40\n",
      "475/475 - 27s - loss: 0.1120 - accuracy: 0.9654 - val_loss: 1.0762 - val_accuracy: 0.8036 - 27s/epoch - 57ms/step\n",
      "Epoch 9: early stopping\n",
      "28/28 [==============================] - 0s 15ms/step - loss: 0.2859 - accuracy: 0.9348\n"
     ]
    },
    {
     "data": {
      "text/plain": [
       "[0.2859467566013336, 0.934831440448761]"
      ]
     },
     "execution_count": 18,
     "metadata": {},
     "output_type": "execute_result"
    }
   ],
   "source": [
    "model = Sequential([\n",
    "    Conv2D(32, (3, 3), activation='relu', input_shape=(64, 64, 3)),\n",
    "    BatchNormalization(),\n",
    "    MaxPooling2D(2, 2),\n",
    "    Conv2D(64, (3, 3), activation='relu'),\n",
    "    BatchNormalization(),\n",
    "    MaxPooling2D(2, 2),\n",
    "    Conv2D(128, (3, 3), activation='relu'),\n",
    "    BatchNormalization(),\n",
    "    MaxPooling2D(2, 2),\n",
    "    Flatten(),\n",
    "    Dropout(0.2),\n",
    "    Dense(512, activation='relu'),\n",
    "    Dense(18, activation='softmax')\n",
    "])\n",
    "\n",
    "model.compile(loss='categorical_crossentropy', optimizer='adam', metrics=['accuracy'])\n",
    "\n",
    "history = model.fit(X_train, y_train,\n",
    "                    epochs=40,\n",
    "                    validation_data=(X_valid, y_valid),\n",
    "                    verbose=2,\n",
    "                    batch_size = 32,\n",
    "                    callbacks=[early_stopping, callback])\n",
    "\n",
    "model.evaluate(X_test_scaled, y_test)"
   ]
  },
  {
   "cell_type": "code",
   "execution_count": 19,
   "metadata": {},
   "outputs": [],
   "source": [
    "def pintar_grafica():\n",
    "    acc = history.history['accuracy']\n",
    "    val_acc = history.history['val_accuracy']\n",
    "    loss = history.history['loss']\n",
    "    val_loss = history.history['val_loss']\n",
    "\n",
    "    epochs = range(len(acc))\n",
    "\n",
    "    plt.plot(epochs, acc, 'r', label='Training accuracy')\n",
    "    plt.plot(epochs, val_acc, 'b', label='Validation accuracy')\n",
    "    plt.title('Training and validation accuracy')\n",
    "    plt.legend(loc=0)\n",
    "    plt.figure()\n",
    "\n",
    "    plt.show()"
   ]
  },
  {
   "cell_type": "code",
   "execution_count": 20,
   "metadata": {},
   "outputs": [
    {
     "data": {
      "image/png": "[encoded data removed]",
      "text/plain": [
       "<Figure size 640x480 with 1 Axes>"
      ]
     },
     "metadata": {},
     "output_type": "display_data"
    },
    {
     "data": {
      "text/plain": [
       "<Figure size 640x480 with 0 Axes>"
      ]
     },
     "metadata": {},
     "output_type": "display_data"
    }
   ],
   "source": [
    "pintar_grafica()"
   ]
  },
  {
   "cell_type": "code",
   "execution_count": 21,
   "metadata": {
    "id": "Zw7VFEoqN1Fs"
   },
   "outputs": [
    {
     "name": "stdout",
     "output_type": "stream",
     "text": [
      "Epoch 1/40\n",
      "475/475 - 27s - loss: 1.6801 - accuracy: 0.5360 - val_loss: 1.6616 - val_accuracy: 0.5028 - 27s/epoch - 58ms/step\n",
      "Epoch 2/40\n",
      "475/475 - 27s - loss: 0.8031 - accuracy: 0.7575 - val_loss: 0.9205 - val_accuracy: 0.7386 - 27s/epoch - 56ms/step\n",
      "Epoch 3/40\n",
      "475/475 - 27s - loss: 0.4225 - accuracy: 0.8722 - val_loss: 1.2334 - val_accuracy: 0.6954 - 27s/epoch - 56ms/step\n",
      "Epoch 4/40\n",
      "475/475 - 27s - loss: 0.2287 - accuracy: 0.9261 - val_loss: 0.9274 - val_accuracy: 0.7776 - 27s/epoch - 56ms/step\n",
      "Epoch 5/40\n",
      "475/475 - 27s - loss: 0.1513 - accuracy: 0.9543 - val_loss: 0.9945 - val_accuracy: 0.7710 - 27s/epoch - 57ms/step\n",
      "Epoch 6/40\n",
      "475/475 - 27s - loss: 0.1446 - accuracy: 0.9537 - val_loss: 1.2688 - val_accuracy: 0.7386 - 27s/epoch - 56ms/step\n",
      "Epoch 7/40\n",
      "475/475 - 27s - loss: 0.1184 - accuracy: 0.9625 - val_loss: 0.8151 - val_accuracy: 0.8347 - 27s/epoch - 57ms/step\n",
      "Epoch 8/40\n",
      "475/475 - 26s - loss: 0.0969 - accuracy: 0.9701 - val_loss: 0.8380 - val_accuracy: 0.8357 - 26s/epoch - 56ms/step\n",
      "Epoch 9/40\n",
      "475/475 - 26s - loss: 0.1115 - accuracy: 0.9673 - val_loss: 0.9932 - val_accuracy: 0.8194 - 26s/epoch - 56ms/step\n",
      "Epoch 10/40\n",
      "475/475 - 26s - loss: 0.1141 - accuracy: 0.9676 - val_loss: 1.4350 - val_accuracy: 0.7497 - 26s/epoch - 56ms/step\n",
      "Epoch 11/40\n",
      "475/475 - 26s - loss: 0.0862 - accuracy: 0.9755 - val_loss: 1.7017 - val_accuracy: 0.7465 - 26s/epoch - 56ms/step\n",
      "Epoch 12/40\n",
      "475/475 - 26s - loss: 0.0759 - accuracy: 0.9776 - val_loss: 1.0478 - val_accuracy: 0.8284 - 26s/epoch - 56ms/step\n",
      "Epoch 13/40\n",
      "475/475 - 26s - loss: 0.0848 - accuracy: 0.9747 - val_loss: 1.4532 - val_accuracy: 0.7697 - 26s/epoch - 56ms/step\n",
      "Epoch 13: early stopping\n",
      "28/28 [==============================] - 0s 15ms/step - loss: 0.5584 - accuracy: 0.8798\n"
     ]
    },
    {
     "data": {
      "text/plain": [
       "[0.5583711862564087, 0.8797752857208252]"
      ]
     },
     "execution_count": 21,
     "metadata": {},
     "output_type": "execute_result"
    }
   ],
   "source": [
    "model = Sequential([\n",
    "    Conv2D(32, (3, 3), activation='relu', input_shape=(64, 64, 3)),\n",
    "    BatchNormalization(),\n",
    "    MaxPooling2D(2, 2),\n",
    "    Conv2D(64, (3, 3), activation='relu'),\n",
    "    BatchNormalization(),\n",
    "    MaxPooling2D(2, 2),\n",
    "    Conv2D(128, (3, 3), activation='relu'),\n",
    "    BatchNormalization(),\n",
    "    MaxPooling2D(2, 2),\n",
    "    Flatten(),\n",
    "    Dropout(0.2),\n",
    "    Dense(512, activation='relu'),\n",
    "    Dense(18, activation='softmax')\n",
    "])\n",
    "\n",
    "model.compile(loss='categorical_crossentropy', optimizer='adam', metrics=['accuracy'])\n",
    "\n",
    "history = model.fit(X_train, y_train,\n",
    "                    epochs=40,\n",
    "                    validation_data=(X_valid, y_valid),\n",
    "                    verbose=2,\n",
    "                    batch_size = 32,\n",
    "                    callbacks=[early_stopping, callback])\n",
    "\n",
    "model.evaluate(X_test_scaled, y_test)"
   ]
  },
  {
   "cell_type": "code",
   "execution_count": 22,
   "metadata": {},
   "outputs": [
    {
     "data": {
      "image/png": "[encoded data removed]",
      "text/plain": [
       "<Figure size 640x480 with 1 Axes>"
      ]
     },
     "metadata": {},
     "output_type": "display_data"
    },
    {
     "data": {
      "text/plain": [
       "<Figure size 640x480 with 0 Axes>"
      ]
     },
     "metadata": {},
     "output_type": "display_data"
    }
   ],
   "source": [
    "pintar_grafica()"
   ]
  },
  {
   "attachments": {},
   "cell_type": "markdown",
   "metadata": {
    "id": "0xQq5tCNNHSL"
   },
   "source": [
    "Prueba\n",
    "\n",
    "El modelo  tiene un total de 15 capas:\n",
    "\n",
    "3 capas Conv2D (convolucionales).\n",
    "3 capas BatchNormalization (normalización por lotes).\n",
    "3 capas MaxPooling2D (reducción de dimensionalidad).\n",
    "1 capa Flatten.\n",
    "1 capa Dropout (regularización).\n",
    "4 capas Dense (completamente conectadas)."
   ]
  },
  {
   "attachments": {},
   "cell_type": "markdown",
   "metadata": {},
   "source": [
    "# Modelo CNN definitivo"
   ]
  },
  {
   "cell_type": "code",
   "execution_count": null,
   "metadata": {},
   "outputs": [],
   "source": [
    "model = Sequential([\n",
    "    Conv2D(32, (3,3), activation='relu', input_shape=(64, 64, 1)),\n",
    "    MaxPooling2D(2, 2),\n",
    "    Conv2D(64, (3,3), activation='relu'),\n",
    "    MaxPooling2D(2,2),\n",
    "    Conv2D(128, (3,3), activation='relu'),\n",
    "    MaxPooling2D(2,2),\n",
    "    Conv2D(256, (3,3), activation='relu'),\n",
    "    MaxPooling2D(2,2),\n",
    "    Flatten(),\n",
    "    Dropout(0.5),\n",
    "    Dense(128, activation='relu'),\n",
    "    Dense(256, activation='relu'),\n",
    "    Dense(18, activation='softmax')\n",
    "])"
   ]
  },
  {
   "attachments": {},
   "cell_type": "markdown",
   "metadata": {
    "id": "yjwFas-5gcZt"
   },
   "source": [
    "*Ejercicio*  Prueba fully connected. "
   ]
  },
  {
   "cell_type": "code",
   "execution_count": 27,
   "metadata": {
    "id": "iMN2Obd3gJZW"
   },
   "outputs": [
    {
     "name": "stdout",
     "output_type": "stream",
     "text": [
      "Model: \"sequential_3\"\n",
      "_________________________________________________________________\n",
      " Layer (type)                Output Shape              Param #   \n",
      "=================================================================\n",
      " flatten_3 (Flatten)         (None, 12288)             0         \n",
      "                                                                 \n",
      " dropout_3 (Dropout)         (None, 12288)             0         \n",
      "                                                                 \n",
      " dense_6 (Dense)             (None, 512)               6291968   \n",
      "                                                                 \n",
      " dense_7 (Dense)             (None, 256)               131328    \n",
      "                                                                 \n",
      " dense_8 (Dense)             (None, 128)               32896     \n",
      "                                                                 \n",
      " dense_9 (Dense)             (None, 18)                2322      \n",
      "                                                                 \n",
      "=================================================================\n",
      "Total params: 6,458,514\n",
      "Trainable params: 6,458,514\n",
      "Non-trainable params: 0\n",
      "_________________________________________________________________\n"
     ]
    }
   ],
   "source": [
    "#definicion de la arquitectura del modelo secuencial. \n",
    "#Comenzamos con una capa convolucional con 32 filtros de tamaño (3, 3) y función de activación ReLU, seguida de una capa de pooling con tamaño de ventana (2, 2). \n",
    "#Luego agreamos dos capas convolucionales más con más filtros y capas de pooling correspondientes. \n",
    "#A continuación, se aplanan los mapas de características resultantes y se agrega una capa de dropout para evitar el sobreajuste. \n",
    "#Luego se agregan dos capas densamente conectadas, con la última capa utilizando una función de activación softmax para la clasificación de las 18 clases\n",
    "# Por ultimo el resumen del modelo, que incluye información. \n",
    "\n",
    "model = Sequential([\n",
    "\n",
    "    Flatten(input_shape=(64, 64, 3)),\n",
    "    Dropout(0.2),\n",
    "    Dense(512, activation='relu'),\n",
    "    Dense(256, activation='relu'),\n",
    "    Dense(128, activation='relu'),\n",
    "    Dense(18, activation='softmax')\n",
    "\n",
    "])"
   ]
  },
  {
   "cell_type": "code",
   "execution_count": 28,
   "metadata": {},
   "outputs": [
    {
     "data": {
      "image/png": "[encoded data removed]",
      "text/plain": [
       "<Figure size 640x480 with 1 Axes>"
      ]
     },
     "metadata": {},
     "output_type": "display_data"
    },
    {
     "data": {
      "text/plain": [
       "<Figure size 640x480 with 0 Axes>"
      ]
     },
     "metadata": {},
     "output_type": "display_data"
    }
   ],
   "source": [
    "pintar_grafica()"
   ]
  },
  {
   "attachments": {},
   "cell_type": "markdown",
   "metadata": {},
   "source": [
    "# Modelo CNN definitivo"
   ]
  },
  {
   "cell_type": "code",
   "execution_count": 31,
   "metadata": {},
   "outputs": [],
   "source": [
    "model = Sequential([\n",
    "    Conv2D(32, (3,3), activation='relu', input_shape=(64, 64, 1)),\n",
    "    MaxPooling2D(2, 2),\n",
    "    Conv2D(64, (3,3), activation='relu'),\n",
    "    MaxPooling2D(2,2),\n",
    "    Conv2D(128, (3,3), activation='relu'),\n",
    "    MaxPooling2D(2,2),\n",
    "    Conv2D(256, (3,3), activation='relu'),\n",
    "    MaxPooling2D(2,2),\n",
    "    Flatten(),\n",
    "    Dropout(0.5),\n",
    "    Dense(128, activation='relu'),\n",
    "    Dense(256, activation='relu'),\n",
    "    Dense(18, activation='softmax')\n",
    "])\n",
    "\n",
    "model.compile(loss = 'sparse_categorical_crossentropy', optimizer='adamax', metrics=['accuracy'])"
   ]
  },
  {
   "attachments": {},
   "cell_type": "markdown",
   "metadata": {},
   "source": [
    "# Pruebas CNN BATCH SIZE [32,64,128,256,512]\n",
    "\n"
   ]
  },
  {
   "cell_type": "code",
   "execution_count": 33,
   "metadata": {},
   "outputs": [
    {
     "ename": "NameError",
     "evalue": "name 'acc' is not defined",
     "output_type": "error",
     "traceback": [
      "\u001b[0;31m---------------------------------------------------------------------------\u001b[0m",
      "\u001b[0;31mNameError\u001b[0m                                 Traceback (most recent call last)",
      "Cell \u001b[0;32mIn[33], line 1\u001b[0m\n\u001b[0;32m----> 1\u001b[0m \u001b[39mrange\u001b[39m(\u001b[39mlen\u001b[39m(acc))\n",
      "\u001b[0;31mNameError\u001b[0m: name 'acc' is not defined"
     ]
    }
   ],
   "source": [
    "range(len(acc))"
   ]
  },
  {
   "cell_type": "code",
   "execution_count": 32,
   "metadata": {},
   "outputs": [
    {
     "name": "stdout",
     "output_type": "stream",
     "text": [
      "\n",
      "\n",
      "-------------------------------------\n",
      "-------------------------------------\n",
      "Prueba con Batch Size: 32\n",
      "Epoch 1/40\n"
     ]
    },
    {
     "ename": "ValueError",
     "evalue": "in user code:\n\n    File \"/home/jesus/.local/lib/python3.10/site-packages/keras/engine/training.py\", line 1284, in train_function  *\n        return step_function(self, iterator)\n    File \"/home/jesus/.local/lib/python3.10/site-packages/keras/engine/training.py\", line 1268, in step_function  **\n        outputs = model.distribute_strategy.run(run_step, args=(data,))\n    File \"/home/jesus/.local/lib/python3.10/site-packages/keras/engine/training.py\", line 1249, in run_step  **\n        outputs = model.train_step(data)\n    File \"/home/jesus/.local/lib/python3.10/site-packages/keras/engine/training.py\", line 1050, in train_step\n        y_pred = self(x, training=True)\n    File \"/home/jesus/.local/lib/python3.10/site-packages/keras/utils/traceback_utils.py\", line 70, in error_handler\n        raise e.with_traceback(filtered_tb) from None\n    File \"/home/jesus/.local/lib/python3.10/site-packages/keras/engine/input_spec.py\", line 280, in assert_input_compatibility\n        raise ValueError(\n\n    ValueError: Exception encountered when calling layer 'sequential_4' (type Sequential).\n    \n    Input 0 of layer \"conv2d_16\" is incompatible with the layer: expected axis -1 of input shape to have value 1, but received input with shape (None, 64, 64, 3)\n    \n    Call arguments received by layer 'sequential_4' (type Sequential):\n      • inputs=tf.Tensor(shape=(None, 64, 64, 3), dtype=float32)\n      • training=True\n      • mask=None\n",
     "output_type": "error",
     "traceback": [
      "\u001b[0;31m---------------------------------------------------------------------------\u001b[0m",
      "\u001b[0;31mValueError\u001b[0m                                Traceback (most recent call last)",
      "Cell \u001b[0;32mIn[32], line 7\u001b[0m\n\u001b[1;32m      4\u001b[0m \u001b[39mprint\u001b[39m(\u001b[39m'\u001b[39m\u001b[39m-------------------------------------\u001b[39m\u001b[39m'\u001b[39m)\n\u001b[1;32m      5\u001b[0m \u001b[39mprint\u001b[39m(\u001b[39mf\u001b[39m\u001b[39m'\u001b[39m\u001b[39mPrueba con Batch Size: \u001b[39m\u001b[39m{\u001b[39;00mi\u001b[39m}\u001b[39;00m\u001b[39m'\u001b[39m)\n\u001b[0;32m----> 7\u001b[0m history \u001b[39m=\u001b[39m model\u001b[39m.\u001b[39;49mfit(X_train, y_train,\n\u001b[1;32m      8\u001b[0m         epochs\u001b[39m=\u001b[39;49m\u001b[39m40\u001b[39;49m,\n\u001b[1;32m      9\u001b[0m         validation_data\u001b[39m=\u001b[39;49m(X_valid, y_valid),\n\u001b[1;32m     10\u001b[0m         verbose\u001b[39m=\u001b[39;49m\u001b[39m2\u001b[39;49m,\n\u001b[1;32m     11\u001b[0m         batch_size \u001b[39m=\u001b[39;49m \u001b[39m32\u001b[39;49m,\n\u001b[1;32m     12\u001b[0m         callbacks\u001b[39m=\u001b[39;49m[early_stopping, callback])\n\u001b[1;32m     16\u001b[0m acc \u001b[39m=\u001b[39m history\u001b[39m.\u001b[39mhistory[\u001b[39m'\u001b[39m\u001b[39maccuracy\u001b[39m\u001b[39m'\u001b[39m]\n\u001b[1;32m     17\u001b[0m val_acc \u001b[39m=\u001b[39m history\u001b[39m.\u001b[39mhistory[\u001b[39m'\u001b[39m\u001b[39mval_accuracy\u001b[39m\u001b[39m'\u001b[39m]\n",
      "File \u001b[0;32m~/.local/lib/python3.10/site-packages/keras/utils/traceback_utils.py:70\u001b[0m, in \u001b[0;36mfilter_traceback.<locals>.error_handler\u001b[0;34m(*args, **kwargs)\u001b[0m\n\u001b[1;32m     67\u001b[0m     filtered_tb \u001b[39m=\u001b[39m _process_traceback_frames(e\u001b[39m.\u001b[39m__traceback__)\n\u001b[1;32m     68\u001b[0m     \u001b[39m# To get the full stack trace, call:\u001b[39;00m\n\u001b[1;32m     69\u001b[0m     \u001b[39m# `tf.debugging.disable_traceback_filtering()`\u001b[39;00m\n\u001b[0;32m---> 70\u001b[0m     \u001b[39mraise\u001b[39;00m e\u001b[39m.\u001b[39mwith_traceback(filtered_tb) \u001b[39mfrom\u001b[39;00m \u001b[39mNone\u001b[39;00m\n\u001b[1;32m     71\u001b[0m \u001b[39mfinally\u001b[39;00m:\n\u001b[1;32m     72\u001b[0m     \u001b[39mdel\u001b[39;00m filtered_tb\n",
      "File \u001b[0;32m/tmp/__autograph_generated_filejfn7pnk3.py:15\u001b[0m, in \u001b[0;36mouter_factory.<locals>.inner_factory.<locals>.tf__train_function\u001b[0;34m(iterator)\u001b[0m\n\u001b[1;32m     13\u001b[0m \u001b[39mtry\u001b[39;00m:\n\u001b[1;32m     14\u001b[0m     do_return \u001b[39m=\u001b[39m \u001b[39mTrue\u001b[39;00m\n\u001b[0;32m---> 15\u001b[0m     retval_ \u001b[39m=\u001b[39m ag__\u001b[39m.\u001b[39mconverted_call(ag__\u001b[39m.\u001b[39mld(step_function), (ag__\u001b[39m.\u001b[39mld(\u001b[39mself\u001b[39m), ag__\u001b[39m.\u001b[39mld(iterator)), \u001b[39mNone\u001b[39;00m, fscope)\n\u001b[1;32m     16\u001b[0m \u001b[39mexcept\u001b[39;00m:\n\u001b[1;32m     17\u001b[0m     do_return \u001b[39m=\u001b[39m \u001b[39mFalse\u001b[39;00m\n",
      "\u001b[0;31mValueError\u001b[0m: in user code:\n\n    File \"/home/jesus/.local/lib/python3.10/site-packages/keras/engine/training.py\", line 1284, in train_function  *\n        return step_function(self, iterator)\n    File \"/home/jesus/.local/lib/python3.10/site-packages/keras/engine/training.py\", line 1268, in step_function  **\n        outputs = model.distribute_strategy.run(run_step, args=(data,))\n    File \"/home/jesus/.local/lib/python3.10/site-packages/keras/engine/training.py\", line 1249, in run_step  **\n        outputs = model.train_step(data)\n    File \"/home/jesus/.local/lib/python3.10/site-packages/keras/engine/training.py\", line 1050, in train_step\n        y_pred = self(x, training=True)\n    File \"/home/jesus/.local/lib/python3.10/site-packages/keras/utils/traceback_utils.py\", line 70, in error_handler\n        raise e.with_traceback(filtered_tb) from None\n    File \"/home/jesus/.local/lib/python3.10/site-packages/keras/engine/input_spec.py\", line 280, in assert_input_compatibility\n        raise ValueError(\n\n    ValueError: Exception encountered when calling layer 'sequential_4' (type Sequential).\n    \n    Input 0 of layer \"conv2d_16\" is incompatible with the layer: expected axis -1 of input shape to have value 1, but received input with shape (None, 64, 64, 3)\n    \n    Call arguments received by layer 'sequential_4' (type Sequential):\n      • inputs=tf.Tensor(shape=(None, 64, 64, 3), dtype=float32)\n      • training=True\n      • mask=None\n"
     ]
    }
   ],
   "source": [
    "\n",
    "for i in [32,64,128,256,512]:\n",
    "        print('\\n')\n",
    "        print('-------------------------------------')\n",
    "        print('-------------------------------------')\n",
    "        print(f'Prueba con Batch Size: {i}')\n",
    "\n",
    "        history = model.fit(X_train, y_train,\n",
    "                epochs=40,\n",
    "                validation_data=(X_valid, y_valid),\n",
    "                verbose=2,\n",
    "                batch_size = 32,\n",
    "                callbacks=[early_stopping, callback])\n",
    "        \n",
    "\n",
    "\n",
    "        acc = history.history['accuracy']\n",
    "        val_acc = history.history['val_accuracy']\n",
    "        loss = history.history['loss']\n",
    "        val_loss = history.history['val_loss']\n",
    "\n",
    "        epochs = range(len(acc))\n",
    "\n",
    "        plt.plot(epochs, acc, 'r', label='Training accuracy')\n",
    "        plt.plot(epochs, val_acc, 'b', label='Validation accuracy')\n",
    "        plt.title('Training and validation accuracy')\n",
    "        plt.legend(loc=0)\n",
    "        plt.figure()\n",
    "\n",
    "        plt.show()\n",
    "\n",
    "        # Evaluar el modelo en el conjunto de datos de prueba\n",
    "        print(f'\\n')\n",
    "        print(f'Métricas con dataset de validación:')\n",
    "\n",
    "        valid_loss, valid_acc = model.evaluate(X_valid, y_valid)\n",
    "\n",
    "        print(f'\\n')\n",
    "        print(f'Métricas con dataset de test:')\n",
    "\n",
    "        test_loss, test_acc = model.evaluate(X_test_scaled, y_test)\n",
    "\n",
    "        print(f'\\n')"
   ]
  },
  {
   "cell_type": "code",
   "execution_count": null,
   "metadata": {},
   "outputs": [],
   "source": [
    "pintar_grafica()"
   ]
  }
 ],
 "metadata": {
  "accelerator": "GPU",
  "colab": {
   "gpuType": "T4",
   "provenance": []
  },
  "gpuClass": "standard",
  "kernelspec": {
   "display_name": "Python 3 (ipykernel)",
   "language": "python",
   "name": "python3"
  },
  "language_info": {
   "codemirror_mode": {
    "name": "ipython",
    "version": 3
   },
   "file_extension": ".py",
   "mimetype": "text/x-python",
   "name": "python",
   "nbconvert_exporter": "python",
   "pygments_lexer": "ipython3",
   "version": "3.10.6"
  }
 },
 "nbformat": 4,
 "nbformat_minor": 1
}
