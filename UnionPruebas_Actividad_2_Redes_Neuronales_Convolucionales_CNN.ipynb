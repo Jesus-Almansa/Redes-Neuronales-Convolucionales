{
  "cells": [
    {
      "cell_type": "code",
      "execution_count": 1,
      "metadata": {
        "id": "bAZ7bv9rgDUE"
      },
      "outputs": [],
      "source": [
        "import cv2\n",
        "import os\n",
        "import numpy as np \n",
        "import keras\n",
        "from tensorflow import keras\n",
        "import matplotlib.pyplot as plt\n",
        "import glob\n",
        "import tensorflow as tf"
      ]
    },
    {
      "cell_type": "code",
      "execution_count": 2,
      "metadata": {
        "id": "UdvL5z0ay94x"
      },
      "outputs": [],
      "source": [
        "from keras.preprocessing.image import ImageDataGenerator\n",
        "from keras.models import Sequential\n",
        "from keras.layers import Conv2D, MaxPooling2D, Flatten, Dense, Dropout \n",
        "from keras.optimizers import Adam\n",
        "from keras.callbacks import ModelCheckpoint\n",
        "from sklearn.model_selection import train_test_split\n",
        "from keras.utils import to_categorical\n",
        "from keras.callbacks import ModelCheckpoint, EarlyStopping\n",
        "from keras.layers import BatchNormalization"
      ]
    },
    {
      "cell_type": "code",
      "execution_count": 3,
      "metadata": {
        "id": "IfEK6tdngI6p"
      },
      "outputs": [],
      "source": [
        "# # Primero, bajamos los datos de entrenamiento\n",
        "# keras.utils.get_file(fname=\"simpsons_train.tar.gz\", \n",
        "#                     origin=\"https://onedrive.live.com/download?cid=C506CF0A4F373B0F&resid=C506CF0A4F373B0F%219337&authkey=AMzI92bJPx8Sd60\")\n",
        "\n",
        "# # Descomprimimos el archivo\n",
        "# !tar -xzf /root/.keras/datasets/simpsons_train.tar.gz -C /root/.keras/datasets\n",
        "\n",
        "\n",
        "# # Hacemos lo mismo con los datos de test\n",
        "# keras.utils.get_file(fname=\"simpsons_test.tar.gz\", \n",
        "#                     origin=\"https://onedrive.live.com/download?cid=C506CF0A4F373B0F&resid=C506CF0A4F373B0F%219341&authkey=ANnjK3Uq1FhuAe8\")\n",
        "# !tar -xzf /root/.keras/datasets/simpsons_test.tar.gz -C /root/.keras/datasets"
      ]
    },
    {
      "cell_type": "code",
      "execution_count": 4,
      "metadata": {
        "id": "5FhI6rc5gI_U"
      },
      "outputs": [],
      "source": [
        "# Esta variable contiene un mapeo de número de clase a personaje.\n",
        "# Utilizamos sólo los 18 personajes del dataset que tienen más imágenes.\n",
        "MAP_CHARACTERS = {\n",
        "    0: 'abraham_grampa_simpson', 1: 'apu_nahasapeemapetilon', 2: 'bart_simpson',\n",
        "    3: 'charles_montgomery_burns', 4: 'chief_wiggum', 5: 'comic_book_guy', 6: 'edna_krabappel', \n",
        "    7: 'homer_simpson', 8: 'kent_brockman', 9: 'krusty_the_clown', 10: 'lisa_simpson', \n",
        "    11: 'marge_simpson', 12: 'milhouse_van_houten', 13: 'moe_szyslak', \n",
        "    14: 'ned_flanders', 15: 'nelson_muntz', 16: 'principal_skinner', 17: 'sideshow_bob'\n",
        "}\n",
        "\n",
        "# Vamos a standarizar todas las imágenes a tamaño 64x64\n",
        "IMG_SIZE = 64"
      ]
    },
    {
      "cell_type": "code",
      "execution_count": 5,
      "metadata": {
        "id": "2YPOluxHy940"
      },
      "outputs": [],
      "source": [
        "class myCallback(tf.keras.callbacks.Callback):\n",
        "    def on_epoch_end(self, epoch, logs={}):\n",
        "        accuracy = 0.85\n",
        "        if(logs.get('val_accuracy')> accuracy):\n",
        "            print(\"\\nAlcanzado el {}% de precisión, se cancela el entrenamiento!!\".format(accuracy))\n",
        "            self.model.stop_training = True"
      ]
    },
    {
      "cell_type": "code",
      "execution_count": 6,
      "metadata": {
        "id": "XkZe0NMyy940"
      },
      "outputs": [],
      "source": [
        "callback = myCallback()"
      ]
    },
    {
      "cell_type": "code",
      "execution_count": 7,
      "metadata": {
        "id": "PYUQPIjMgJCe"
      },
      "outputs": [],
      "source": [
        "def load_train_set(dirname, map_characters, verbose=True):\n",
        "    \"\"\"Esta función carga los datos de training en imágenes.\n",
        "    \n",
        "    Como las imágenes tienen tamaños distintas, utilizamos la librería opencv\n",
        "    para hacer un resize y adaptarlas todas a tamaño IMG_SIZE x IMG_SIZE.\n",
        "    \n",
        "    Args:\n",
        "        dirname: directorio completo del que leer los datos\n",
        "        map_characters: variable de mapeo entre labels y personajes\n",
        "        verbose: si es True, muestra información de las imágenes cargadas\n",
        "     \n",
        "    Returns:\n",
        "        X, y: X es un array con todas las imágenes cargadas con tamaño\n",
        "                IMG_SIZE x IMG_SIZE\n",
        "              y es un array con las labels de correspondientes a cada imagen\n",
        "    \"\"\"\n",
        "    X_train = []\n",
        "    y_train = []\n",
        "    for label, character in map_characters.items():        \n",
        "        files = os.listdir(os.path.join(dirname, character))\n",
        "        images = [file for file in files if file.endswith(\"jpg\")]\n",
        "        if verbose:\n",
        "          print(\"Leyendo {} imágenes encontradas de {}\".format(len(images), character))\n",
        "        for image_name in images:\n",
        "            image = cv2.imread(os.path.join(dirname, character, image_name))\n",
        "            X_train.append(cv2.resize(image,(IMG_SIZE, IMG_SIZE)))\n",
        "            y_train.append(label)\n",
        "    return np.array(X_train), np.array(y_train)"
      ]
    },
    {
      "cell_type": "code",
      "execution_count": 8,
      "metadata": {
        "id": "lwpNn_UJgJFY"
      },
      "outputs": [],
      "source": [
        "def load_test_set(dirname, map_characters, verbose=True):\n",
        "    \"\"\"Esta función funciona de manera equivalente a la función load_train_set\n",
        "    pero cargando los datos de test.\"\"\"\n",
        "    X_test = []\n",
        "    y_test = []\n",
        "    reverse_dict = {v: k for k, v in map_characters.items()}\n",
        "    for filename in glob.glob(dirname + '/*.*'):\n",
        "        char_name = \"_\".join(filename.split('/')[-1].split('_')[:-1])\n",
        "        if char_name in reverse_dict:\n",
        "            image = cv2.imread(filename)\n",
        "            image = cv2.resize(image, (IMG_SIZE, IMG_SIZE))\n",
        "            X_test.append(image)\n",
        "            y_test.append(reverse_dict[char_name])\n",
        "    if verbose:\n",
        "        print(\"Leídas {} imágenes de test\".format(len(X_test)))\n",
        "    return np.array(X_test), np.array(y_test)\n"
      ]
    },
    {
      "cell_type": "code",
      "execution_count": 9,
      "metadata": {
        "colab": {
          "base_uri": "https://localhost:8080/"
        },
        "id": "hjO9gj-rgJH2",
        "outputId": "5e7706c3-a079-4cc1-8ea7-59c0d3df5c00"
      },
      "outputs": [
        {
          "output_type": "stream",
          "name": "stdout",
          "text": [
            "Leyendo 913 imágenes encontradas de abraham_grampa_simpson\n",
            "Leyendo 623 imágenes encontradas de apu_nahasapeemapetilon\n",
            "Leyendo 1342 imágenes encontradas de bart_simpson\n",
            "Leyendo 1193 imágenes encontradas de charles_montgomery_burns\n",
            "Leyendo 986 imágenes encontradas de chief_wiggum\n",
            "Leyendo 469 imágenes encontradas de comic_book_guy\n",
            "Leyendo 457 imágenes encontradas de edna_krabappel\n",
            "Leyendo 2246 imágenes encontradas de homer_simpson\n",
            "Leyendo 498 imágenes encontradas de kent_brockman\n",
            "Leyendo 1206 imágenes encontradas de krusty_the_clown\n",
            "Leyendo 1354 imágenes encontradas de lisa_simpson\n",
            "Leyendo 1291 imágenes encontradas de marge_simpson\n",
            "Leyendo 1079 imágenes encontradas de milhouse_van_houten\n",
            "Leyendo 1452 imágenes encontradas de moe_szyslak\n",
            "Leyendo 1454 imágenes encontradas de ned_flanders\n",
            "Leyendo 358 imágenes encontradas de nelson_muntz\n",
            "Leyendo 1194 imágenes encontradas de principal_skinner\n",
            "Leyendo 877 imágenes encontradas de sideshow_bob\n",
            "Leídas 890 imágenes de test\n"
          ]
        }
      ],
      "source": [
        "# Cargamos los datos. Si no estás trabajando en colab, cambia los paths por\n",
        "# los de los ficheros donde hayas descargado los datos.\n",
        "DATASET_TRAIN_PATH_COLAB = \"/root/.keras/datasets/simpsons\"\n",
        "DATASET_TEST_PATH_COLAB = \"/root/.keras/datasets/simpsons_testset\"\n",
        "\n",
        "# DATASET_TRAIN_PATH_COLAB = \"/home/jesus/.keras/datasets/simpsons\"\n",
        "# DATASET_TEST_PATH_COLAB = \"/home/jesus/.keras/datasets/simpsons_testset\"\n",
        "\n",
        "X, y = load_train_set(DATASET_TRAIN_PATH_COLAB, MAP_CHARACTERS)\n",
        "X_test, y_test = load_test_set(DATASET_TEST_PATH_COLAB, MAP_CHARACTERS)"
      ]
    },
    {
      "cell_type": "code",
      "execution_count": 10,
      "metadata": {
        "id": "EGeDc4hIgJLE"
      },
      "outputs": [],
      "source": [
        "# Vamos a barajar aleatoriamente los datos. Esto es importante ya que si no\n",
        "# lo hacemos y, por ejemplo, cogemos el 20% de los datos finales como validation\n",
        "# set, estaremos utilizando solo un pequeño número de personajes, ya que\n",
        "# las imágenes se leen secuencialmente personaje a personaje.\n",
        "perm = np.random.permutation(len(X))\n",
        "X, y = X[perm], y[perm]"
      ]
    },
    {
      "cell_type": "code",
      "execution_count": 11,
      "metadata": {
        "colab": {
          "base_uri": "https://localhost:8080/",
          "height": 449
        },
        "id": "pZSBpbBIgJNq",
        "outputId": "9e09e901-e8a3-4193-e93b-04d853d5d674"
      },
      "outputs": [
        {
          "output_type": "execute_result",
          "data": {
            "text/plain": [
              "<matplotlib.image.AxesImage at 0x7f7972320670>"
            ]
          },
          "metadata": {},
          "execution_count": 11
        },
        {
          "output_type": "display_data",
          "data": {
            "text/plain": [
              "<Figure size 640x480 with 1 Axes>"
            ],
            "image/png": "[encoded data removed]"
          },
          "metadata": {}
        }
      ],
      "source": [
        "plt.imshow(X_test[2]) # recordad que siempre es preferible trabajar en blanco y negro\n"
      ]
    },
    {
      "cell_type": "markdown",
      "metadata": {
        "id": "2S2nTZqXN2Wt"
      },
      "source": [
        "Prueba batchNormalize\n"
      ]
    },
    {
      "cell_type": "code",
      "execution_count": 12,
      "metadata": {
        "id": "CL6hyQ09N1Y8"
      },
      "outputs": [],
      "source": [
        "X_scaled = X / 255.0\n",
        "X_test_scaled = X_test / 255.0\n",
        "y = y.astype('int')"
      ]
    },
    {
      "cell_type": "code",
      "execution_count": 13,
      "metadata": {
        "id": "p0JEc1Kzj1fi"
      },
      "outputs": [],
      "source": [
        "from sklearn.model_selection import train_test_split\n",
        "\n",
        "X_train, X_valid, y_train, y_valid = train_test_split(X_scaled, y, test_size=0.2, random_state=0)"
      ]
    },
    {
      "cell_type": "code",
      "execution_count": 14,
      "metadata": {
        "id": "mYNIt2Y5y946"
      },
      "outputs": [],
      "source": [
        "y_train = to_categorical(y_train, num_classes=18)\n",
        "y_valid = to_categorical(y_valid, num_classes=18)\n",
        "y_test = to_categorical(y_test, num_classes=18)"
      ]
    },
    {
      "cell_type": "markdown",
      "metadata": {
        "id": "UEyoLQX3y946"
      },
      "source": [
        "#### Observamos las dimensiones de los conjuntos de datos"
      ]
    },
    {
      "cell_type": "code",
      "execution_count": 15,
      "metadata": {
        "colab": {
          "base_uri": "https://localhost:8080/"
        },
        "id": "lP8-T3_wy946",
        "outputId": "8072c367-7c68-469a-efef-c4cfd6cfe96c"
      },
      "outputs": [
        {
          "output_type": "stream",
          "name": "stdout",
          "text": [
            "Shape X_train: (15193, 64, 64, 3)\n",
            "Shape y_train: (15193, 18)\n",
            "Shape X_valid: (3799, 64, 64, 3)\n",
            "Shape y_valid: (3799, 18)\n"
          ]
        }
      ],
      "source": [
        "print(f'Shape X_train: {X_train.shape}')\n",
        "print(f'Shape y_train: {y_train.shape}')\n",
        "print(f'Shape X_valid: {X_valid.shape}')\n",
        "print(f'Shape y_valid: {y_valid.shape}')"
      ]
    },
    {
      "cell_type": "markdown",
      "metadata": {
        "id": "La6O6XDUy947"
      },
      "source": [
        "#### Podemos desglosar esta información de la siguiente manera\n",
        "+ 15193 es el número de instancias que tenemos en la variable X_train\n",
        "+ 64 es el número de píxeles que tiene cada imagen, siendo de 64x64\n",
        "+ 3 es el número de canales de colores que contiene cada imagen\n",
        "\n",
        "Para los datos del target, es unidimensional"
      ]
    },
    {
      "cell_type": "markdown",
      "metadata": {
        "id": "SG6cr6-py947"
      },
      "source": [
        "#### Definimos el early stopping para cortar el entrenamiento cuando el modelo deje de mejorar"
      ]
    },
    {
      "cell_type": "code",
      "execution_count": 16,
      "metadata": {
        "id": "-f2Z0MCFy947"
      },
      "outputs": [],
      "source": [
        "early_stopping = EarlyStopping(monitor='val_accuracy', patience=5, mode='max', verbose=1)"
      ]
    },
    {
      "cell_type": "markdown",
      "metadata": {
        "id": "93AMMrFPy948"
      },
      "source": [
        "#### Creamos varias redes neuronales convolucionales que aprendan a diferenciar a los personajes"
      ]
    },
    {
      "cell_type": "code",
      "execution_count": 17,
      "metadata": {
        "id": "GUYlRI0Qy948"
      },
      "outputs": [],
      "source": [
        "def pintar_grafica():\n",
        "    acc = history.history['accuracy']\n",
        "    val_acc = history.history['val_accuracy']\n",
        "    loss = history.history['loss']\n",
        "    val_loss = history.history['val_loss']\n",
        "\n",
        "    epochs = range(len(acc))\n",
        "\n",
        "    plt.plot(epochs, acc, 'r', label='Training accuracy')\n",
        "    plt.plot(epochs, val_acc, 'b', label='Validation accuracy')\n",
        "    plt.title('Training and validation accuracy')\n",
        "    plt.legend(loc=0)\n",
        "    plt.figure()\n",
        "\n",
        "    plt.show()"
      ]
    },
    {
      "cell_type": "code",
      "execution_count": 18,
      "metadata": {
        "id": "Zw7VFEoqN1Fs"
      },
      "outputs": [],
      "source": [
        "# model = Sequential([\n",
        "#     Conv2D(32, (3, 3), activation='relu', input_shape=(64, 64, 3)),\n",
        "#     BatchNormalization(),\n",
        "#     MaxPooling2D(2, 2),\n",
        "#     Conv2D(64, (3, 3), activation='relu'),\n",
        "#     BatchNormalization(),\n",
        "#     MaxPooling2D(2, 2),\n",
        "#     Conv2D(128, (3, 3), activation='relu'),\n",
        "#     BatchNormalization(),\n",
        "#     MaxPooling2D(2, 2),\n",
        "#     Flatten(),\n",
        "#     Dropout(0.2),\n",
        "#     Dense(512, activation='relu'),\n",
        "#     Dense(18, activation='softmax')\n",
        "# ])\n",
        "\n",
        "# model.compile(loss='categorical_crossentropy', optimizer='adamax', metrics=['accuracy'])\n",
        "\n",
        "# history = model.fit(X_train, y_train,\n",
        "#                     epochs=40,\n",
        "#                     validation_data=(X_valid, y_valid),\n",
        "#                     verbose=2,\n",
        "#                     batch_size = 32,\n",
        "#                     callbacks=[early_stopping, callback])\n",
        "\n",
        "# model.evaluate(X_test_scaled, y_test)\n",
        "\n",
        "# pintar_grafica()"
      ]
    },
    {
      "cell_type": "code",
      "execution_count": 19,
      "metadata": {
        "id": "iMN2Obd3gJZW"
      },
      "outputs": [],
      "source": [
        "# #definicion de la arquitectura del modelo secuencial. \n",
        "# #Comenzamos con una capa convolucional con 32 filtros de tamaño (3, 3) y función de activación ReLU, seguida de una capa de pooling con tamaño de ventana (2, 2). \n",
        "# #Luego agreamos dos capas convolucionales más con más filtros y capas de pooling correspondientes. \n",
        "# #A continuación, se aplanan los mapas de características resultantes y se agrega una capa de dropout para evitar el sobreajuste. \n",
        "# #Luego se agregan dos capas densamente conectadas, con la última capa utilizando una función de activación softmax para la clasificación de las 18 clases\n",
        "# # Por ultimo el resumen del modelo, que incluye información. \n",
        "\n",
        "# model = Sequential([\n",
        "\n",
        "#     Flatten(input_shape=(64, 64, 3)),\n",
        "#     Dropout(0.2),\n",
        "#     Dense(512, activation='relu'),\n",
        "#     Dense(256, activation='relu'),\n",
        "#     Dense(128, activation='relu'),\n",
        "#     Dense(18, activation='softmax')\n",
        "\n",
        "# ])\n",
        "\n",
        "# model.compile(loss='categorical_crossentropy', optimizer='adamax', metrics=['accuracy'])\n",
        "\n",
        "# history = model.fit(X_train, y_train,\n",
        "#                     epochs=40,\n",
        "#                     validation_data=(X_valid, y_valid),\n",
        "#                     verbose=2,\n",
        "#                     batch_size = 32,\n",
        "#                     callbacks=[early_stopping, callback])\n",
        "\n",
        "# model.evaluate(X_test_scaled, y_test)\n",
        "\n",
        "# pintar_grafica()"
      ]
    },
    {
      "cell_type": "markdown",
      "metadata": {
        "id": "UJ3zgO9Ry94_"
      },
      "source": [
        "# Modelo CNN definitivo"
      ]
    },
    {
      "cell_type": "code",
      "execution_count": 23,
      "metadata": {
        "colab": {
          "base_uri": "https://localhost:8080/"
        },
        "id": "KaLOsawHy94_",
        "outputId": "93749f85-ac58-464a-b935-27c09948118e"
      },
      "outputs": [
        {
          "output_type": "stream",
          "name": "stdout",
          "text": [
            "Epoch 1/40\n",
            "475/475 - 7s - loss: 1.7091 - accuracy: 0.5160 - val_loss: 1.4058 - val_accuracy: 0.5807 - 7s/epoch - 14ms/step\n",
            "Epoch 2/40\n",
            "475/475 - 3s - loss: 0.8934 - accuracy: 0.7333 - val_loss: 0.9440 - val_accuracy: 0.7205 - 3s/epoch - 7ms/step\n",
            "Epoch 3/40\n",
            "475/475 - 3s - loss: 0.5501 - accuracy: 0.8278 - val_loss: 0.8389 - val_accuracy: 0.7631 - 3s/epoch - 7ms/step\n",
            "Epoch 4/40\n",
            "475/475 - 4s - loss: 0.3172 - accuracy: 0.9040 - val_loss: 0.7076 - val_accuracy: 0.7989 - 4s/epoch - 8ms/step\n",
            "Epoch 5/40\n",
            "475/475 - 4s - loss: 0.1803 - accuracy: 0.9443 - val_loss: 0.7428 - val_accuracy: 0.8047 - 4s/epoch - 7ms/step\n",
            "Epoch 6/40\n",
            "475/475 - 3s - loss: 0.1087 - accuracy: 0.9683 - val_loss: 0.7105 - val_accuracy: 0.8207 - 3s/epoch - 7ms/step\n",
            "Epoch 7/40\n",
            "475/475 - 4s - loss: 0.0724 - accuracy: 0.9808 - val_loss: 0.6956 - val_accuracy: 0.8278 - 4s/epoch - 8ms/step\n",
            "Epoch 8/40\n",
            "475/475 - 4s - loss: 0.0504 - accuracy: 0.9870 - val_loss: 0.6771 - val_accuracy: 0.8276 - 4s/epoch - 8ms/step\n",
            "Epoch 9/40\n",
            "475/475 - 4s - loss: 0.0414 - accuracy: 0.9880 - val_loss: 0.7425 - val_accuracy: 0.8218 - 4s/epoch - 8ms/step\n",
            "Epoch 10/40\n",
            "475/475 - 4s - loss: 0.0301 - accuracy: 0.9930 - val_loss: 0.6922 - val_accuracy: 0.8407 - 4s/epoch - 8ms/step\n",
            "Epoch 11/40\n",
            "475/475 - 4s - loss: 0.0232 - accuracy: 0.9945 - val_loss: 0.6823 - val_accuracy: 0.8418 - 4s/epoch - 8ms/step\n",
            "Epoch 12/40\n",
            "475/475 - 4s - loss: 0.0217 - accuracy: 0.9947 - val_loss: 0.7033 - val_accuracy: 0.8410 - 4s/epoch - 7ms/step\n",
            "Epoch 13/40\n",
            "475/475 - 4s - loss: 0.0185 - accuracy: 0.9961 - val_loss: 0.6925 - val_accuracy: 0.8450 - 4s/epoch - 8ms/step\n",
            "Epoch 14/40\n",
            "475/475 - 4s - loss: 0.0189 - accuracy: 0.9953 - val_loss: 0.7183 - val_accuracy: 0.8431 - 4s/epoch - 8ms/step\n",
            "Epoch 15/40\n",
            "475/475 - 4s - loss: 0.0141 - accuracy: 0.9969 - val_loss: 0.7246 - val_accuracy: 0.8442 - 4s/epoch - 8ms/step\n",
            "Epoch 16/40\n",
            "475/475 - 3s - loss: 0.0153 - accuracy: 0.9966 - val_loss: 0.7371 - val_accuracy: 0.8373 - 3s/epoch - 7ms/step\n",
            "Epoch 17/40\n",
            "475/475 - 4s - loss: 0.0137 - accuracy: 0.9968 - val_loss: 0.7188 - val_accuracy: 0.8460 - 4s/epoch - 8ms/step\n",
            "Epoch 18/40\n",
            "\n",
            "Alcanzado el 0.85% de precisión, se cancela el entrenamiento!!\n",
            "475/475 - 4s - loss: 0.0104 - accuracy: 0.9972 - val_loss: 0.7007 - val_accuracy: 0.8534 - 4s/epoch - 8ms/step\n",
            "28/28 [==============================] - 0s 4ms/step - loss: 0.1850 - accuracy: 0.9640\n"
          ]
        },
        {
          "output_type": "execute_result",
          "data": {
            "text/plain": [
              "[0.18500927090644836, 0.9640449285507202]"
            ]
          },
          "metadata": {},
          "execution_count": 23
        }
      ],
      "source": [
        "model = Sequential([\n",
        "    Conv2D(32, (3, 3), activation='relu', input_shape=(64, 64, 3)),\n",
        "    BatchNormalization(),\n",
        "    MaxPooling2D(2, 2),\n",
        "    Conv2D(64, (3, 3), activation='relu'),\n",
        "    BatchNormalization(),\n",
        "    MaxPooling2D(2, 2),\n",
        "    Conv2D(128, (3, 3), activation='relu'),\n",
        "    BatchNormalization(),\n",
        "    MaxPooling2D(2, 2),\n",
        "    Flatten(),\n",
        "    Dropout(0.3),\n",
        "    Dense(512, activation='relu'),\n",
        "    Dense(18, activation='softmax')\n",
        "])\n",
        "\n",
        "model.compile(loss = 'categorical_crossentropy', optimizer='adamax', metrics=['accuracy'])\n",
        "\n",
        "history = model.fit(X_train, y_train,\n",
        "                    epochs=40,\n",
        "                    validation_data=(X_valid, y_valid),\n",
        "                    verbose=2,\n",
        "                    batch_size = 32,\n",
        "                    callbacks=[early_stopping, callback])\n",
        "\n",
        "model.evaluate(X_test_scaled, y_test)"
      ]
    }
  ],
  "metadata": {
    "accelerator": "GPU",
    "colab": {
      "gpuType": "T4",
      "provenance": []
    },
    "gpuClass": "standard",
    "kernelspec": {
      "display_name": "Python 3 (ipykernel)",
      "language": "python",
      "name": "python3"
    },
    "language_info": {
      "codemirror_mode": {
        "name": "ipython",
        "version": 3
      },
      "file_extension": ".py",
      "mimetype": "text/x-python",
      "name": "python",
      "nbconvert_exporter": "python",
      "pygments_lexer": "ipython3",
      "version": "3.10.6"
    }
  },
  "nbformat": 4,
  "nbformat_minor": 0
}