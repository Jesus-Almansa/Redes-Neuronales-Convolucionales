{
  "cells": [
    {
      "attachments": {},
      "cell_type": "markdown",
      "metadata": {
        "id": "jYCEIVCXvsNd"
      },
      "source": [
        "# Conseguimos los datos "
      ]
    },
    {
      "attachments": {},
      "cell_type": "markdown",
      "metadata": {
        "id": "n30ZPiooyscu"
      },
      "source": [
        "Importamos el dataset de piedra, papel y tijeras a la carpeta temporal:"
      ]
    },
    {
      "cell_type": "code",
      "execution_count": 1,
      "metadata": {
        "colab": {
          "base_uri": "https://localhost:8080/"
        },
        "id": "goFtl5r7uNMA",
        "outputId": "f106c569-ab00-47b0-a05e-bfb1fe695449"
      },
      "outputs": [],
      "source": [
        "# !wget --no-check-certificate \\\n",
        "#     https://storage.googleapis.com/learning-datasets/rps.zip \\\n",
        "#     -O /tmp/rps.zip\n",
        "\n",
        "\n",
        "# !wget --no-check-certificate \\\n",
        "#     https://storage.googleapis.com/learning-datasets/rps-test-set.zip \\\n",
        "#     -O /tmp/rps-test-set.zip"
      ]
    },
    {
      "attachments": {},
      "cell_type": "markdown",
      "metadata": {
        "id": "0c3cXeQC_43J"
      },
      "source": [
        "Extraemos los datos y los descomprimimos:\n",
        "\n"
      ]
    },
    {
      "cell_type": "code",
      "execution_count": 3,
      "metadata": {
        "id": "OoS4wle03D5a"
      },
      "outputs": [],
      "source": [
        "import os\n",
        "# import zipfile\n",
        "\n",
        "# local_zip = '/tmp/rps.zip'\n",
        "# zip_ref = zipfile.ZipFile(local_zip, 'r')\n",
        "# zip_ref.extractall('/tmp/')\n",
        "# zip_ref.close()\n",
        "\n",
        "# local_zip = '/tmp/rps-test-set.zip'\n",
        "# zip_ref = zipfile.ZipFile(local_zip, 'r')\n",
        "# zip_ref.extractall('/tmp/')\n",
        "# zip_ref.close()"
      ]
    },
    {
      "attachments": {},
      "cell_type": "markdown",
      "metadata": {
        "id": "tyka4XO-_70s"
      },
      "source": [
        "Creamos las carpetas para trabajar de forma organizada y las llenamos con los elementos correspondientes"
      ]
    },
    {
      "cell_type": "code",
      "execution_count": 4,
      "metadata": {
        "colab": {
          "base_uri": "https://localhost:8080/"
        },
        "id": "y__lwwXQ3Ft_",
        "outputId": "6099dd68-6327-40a8-d415-18cc4465e16e"
      },
      "outputs": [
        {
          "name": "stdout",
          "output_type": "stream",
          "text": [
            "total training rock images: 840\n",
            "total training paper images: 840\n",
            "total training scissors images: 840\n"
          ]
        }
      ],
      "source": [
        "rock_dir = os.path.join('/tmp/rps/rock')\n",
        "paper_dir = os.path.join('/tmp/rps/paper')\n",
        "scissors_dir = os.path.join('/tmp/rps/scissors')\n",
        "\n",
        "print('total training rock images:', len(os.listdir(rock_dir)))\n",
        "print('total training paper images:', len(os.listdir(paper_dir)))\n",
        "print('total training scissors images:', len(os.listdir(scissors_dir)))\n"
      ]
    },
    {
      "cell_type": "code",
      "execution_count": 5,
      "metadata": {
        "colab": {
          "base_uri": "https://localhost:8080/"
        },
        "id": "ePA88x6vwJQO",
        "outputId": "0935ba81-3f96-40d1-dc28-d885a5fa2763"
      },
      "outputs": [
        {
          "name": "stdout",
          "output_type": "stream",
          "text": [
            "['rock05ck01-075.png', 'rock07-k03-024.png', 'rock04-078.png', 'rock03-097.png', 'rock03-046.png', 'rock07-k03-089.png', 'rock06ck02-073.png', 'rock01-013.png', 'rock02-051.png', 'rock02-080.png']\n",
            "['paper05-009.png', 'paper01-075.png', 'paper02-037.png', 'paper03-104.png', 'paper04-062.png', 'paper07-020.png', 'paper06-113.png', 'paper07-104.png', 'paper06-037.png', 'paper05-075.png']\n",
            "['scissors03-098.png', 'testscissors01-057.png', 'testscissors02-015.png', 'testscissors01-086.png', 'scissors03-049.png', 'scissors02-022.png', 'scissors01-060.png', 'scissors03-111.png', 'scissors04-077.png', 'testscissors02-069.png']\n"
          ]
        }
      ],
      "source": [
        "rock_files = os.listdir(rock_dir)\n",
        "print(rock_files[:10])\n",
        "\n",
        "paper_files = os.listdir(paper_dir)\n",
        "print(paper_files[:10])\n",
        "\n",
        "scissors_files = os.listdir(scissors_dir)\n",
        "print(scissors_files[:10])"
      ]
    },
    {
      "attachments": {},
      "cell_type": "markdown",
      "metadata": {
        "id": "75othCi4ypnl"
      },
      "source": [
        "# Data Augmentation"
      ]
    },
    {
      "attachments": {},
      "cell_type": "markdown",
      "metadata": {
        "id": "zKz7OOAgy-Qt"
      },
      "source": [
        "Definimos las transformaciones a aplicar"
      ]
    },
    {
      "attachments": {},
      "cell_type": "markdown",
      "metadata": {
        "id": "-Gm0VhYRzMTd"
      },
      "source": [
        "Enlace con explicación de cada una de las transformaciones \n",
        "https://www.analyticsvidhya.com/blog/2020/08/image-augmentation-on-the-fly-using-keras-imagedatagenerator/"
      ]
    },
    {
      "cell_type": "code",
      "execution_count": 6,
      "metadata": {
        "colab": {
          "base_uri": "https://localhost:8080/"
        },
        "id": "DYet7FD4f0jh",
        "outputId": "2aada171-da5c-458b-e39b-9d622f3adeb7"
      },
      "outputs": [
        {
          "name": "stdout",
          "output_type": "stream",
          "text": [
            "Defaulting to user installation because normal site-packages is not writeable\n",
            "Requirement already satisfied: Keras-Preprocessing in /home/jesus/.local/lib/python3.10/site-packages (1.1.2)\n",
            "Requirement already satisfied: numpy>=1.9.1 in /home/jesus/.local/lib/python3.10/site-packages (from Keras-Preprocessing) (1.23.5)\n",
            "Requirement already satisfied: six>=1.9.0 in /usr/lib/python3/dist-packages (from Keras-Preprocessing) (1.16.0)\n"
          ]
        }
      ],
      "source": [
        "# !pip install Keras-Preprocessing"
      ]
    },
    {
      "cell_type": "code",
      "execution_count": 7,
      "metadata": {
        "id": "56cmdQZ5wJ0s"
      },
      "outputs": [
        {
          "name": "stderr",
          "output_type": "stream",
          "text": [
            "2023-05-16 16:22:10.582167: I tensorflow/core/util/port.cc:110] oneDNN custom operations are on. You may see slightly different numerical results due to floating-point round-off errors from different computation orders. To turn them off, set the environment variable `TF_ENABLE_ONEDNN_OPTS=0`.\n",
            "2023-05-16 16:22:10.609943: I tensorflow/tsl/cuda/cudart_stub.cc:28] Could not find cuda drivers on your machine, GPU will not be used.\n",
            "2023-05-16 16:22:10.803763: I tensorflow/tsl/cuda/cudart_stub.cc:28] Could not find cuda drivers on your machine, GPU will not be used.\n",
            "2023-05-16 16:22:10.805151: I tensorflow/core/platform/cpu_feature_guard.cc:182] This TensorFlow binary is optimized to use available CPU instructions in performance-critical operations.\n",
            "To enable the following instructions: AVX2 AVX512F AVX512_VNNI FMA, in other operations, rebuild TensorFlow with the appropriate compiler flags.\n",
            "2023-05-16 16:22:11.617142: W tensorflow/compiler/tf2tensorrt/utils/py_utils.cc:38] TF-TRT Warning: Could not find TensorRT\n"
          ]
        }
      ],
      "source": [
        "import tensorflow as tf\n",
        "import keras_preprocessing\n",
        "from keras_preprocessing import image\n",
        "from keras_preprocessing.image import ImageDataGenerator\n",
        "\n",
        "TRAINING_DIR = \"/tmp/rps/\"\n",
        "training_datagen = ImageDataGenerator(\n",
        "      rescale = 1./255,\n",
        "\t    rotation_range=40,\n",
        "      width_shift_range=0.2,\n",
        "      height_shift_range=0.2,\n",
        "      shear_range=0.2,\n",
        "      zoom_range=0.2,\n",
        "      horizontal_flip=True,\n",
        "      fill_mode='nearest')\n",
        "\n",
        "VALIDATION_DIR = \"/tmp/rps-test-set/\"\n",
        "validation_datagen = ImageDataGenerator(rescale = 1./255)\n",
        "\n"
      ]
    },
    {
      "attachments": {},
      "cell_type": "markdown",
      "metadata": {
        "id": "3mHuKRWqzVXM"
      },
      "source": [
        "Iterador para generar datos sobre directorios"
      ]
    },
    {
      "attachments": {},
      "cell_type": "markdown",
      "metadata": {
        "id": "ugxsoRshzb4C"
      },
      "source": [
        "Enlace donde se explican los parámetros: https://vijayabhaskar96.medium.com/tutorial-image-classification-with-keras-flow-from-directory-and-generators-95f75ebe5720"
      ]
    },
    {
      "cell_type": "code",
      "execution_count": 8,
      "metadata": {
        "colab": {
          "base_uri": "https://localhost:8080/"
        },
        "id": "oQy-J-M3zAaS",
        "outputId": "4724bf1c-a55c-4ed0-f2d1-ae146ca7ce99"
      },
      "outputs": [
        {
          "name": "stdout",
          "output_type": "stream",
          "text": [
            "Found 2520 images belonging to 3 classes.\n",
            "Found 372 images belonging to 3 classes.\n"
          ]
        }
      ],
      "source": [
        "train_generator = training_datagen.flow_from_directory(\n",
        "\tTRAINING_DIR,\n",
        "\ttarget_size=(150,150),\n",
        "\tclass_mode='categorical',\n",
        "  batch_size=126\n",
        ")\n",
        "\n",
        "validation_generator = validation_datagen.flow_from_directory(\n",
        "\tVALIDATION_DIR,\n",
        "\ttarget_size=(150,150),\n",
        "\tclass_mode='categorical',\n",
        "  batch_size=126\n",
        ")"
      ]
    },
    {
      "cell_type": "code",
      "execution_count": 9,
      "metadata": {
        "colab": {
          "base_uri": "https://localhost:8080/"
        },
        "id": "huUVrOdm0iZ9",
        "outputId": "5911e308-e42c-47d2-e298-dfcd1f2867da"
      },
      "outputs": [
        {
          "name": "stdout",
          "output_type": "stream",
          "text": [
            "total training rock images: 840\n",
            "total training paper images: 840\n",
            "total training scissors images: 840\n"
          ]
        }
      ],
      "source": [
        "rock_dir = os.path.join('/tmp/rps/rock')\n",
        "paper_dir = os.path.join('/tmp/rps/paper')\n",
        "scissors_dir = os.path.join('/tmp/rps/scissors')\n",
        "\n",
        "print('total training rock images:', len(os.listdir(rock_dir)))\n",
        "print('total training paper images:', len(os.listdir(paper_dir)))\n",
        "print('total training scissors images:', len(os.listdir(scissors_dir)))\n"
      ]
    },
    {
      "attachments": {},
      "cell_type": "markdown",
      "metadata": {
        "id": "OYIvOvew0s4k"
      },
      "source": [
        "# Creación del Modelo"
      ]
    },
    {
      "attachments": {},
      "cell_type": "markdown",
      "metadata": {
        "id": "o2LB20DU00JM"
      },
      "source": [
        "Diseño del modelo"
      ]
    },
    {
      "cell_type": "code",
      "execution_count": 10,
      "metadata": {
        "colab": {
          "base_uri": "https://localhost:8080/"
        },
        "id": "oR0GkSSV0lrB",
        "outputId": "664365a4-34ee-487e-b823-f228768f6782"
      },
      "outputs": [
        {
          "name": "stdout",
          "output_type": "stream",
          "text": [
            "Model: \"sequential\"\n",
            "_________________________________________________________________\n",
            " Layer (type)                Output Shape              Param #   \n",
            "=================================================================\n",
            " conv2d (Conv2D)             (None, 148, 148, 32)      896       \n",
            "                                                                 \n",
            " max_pooling2d (MaxPooling2D  (None, 74, 74, 32)       0         \n",
            " )                                                               \n",
            "                                                                 \n",
            " conv2d_1 (Conv2D)           (None, 72, 72, 64)        18496     \n",
            "                                                                 \n",
            " max_pooling2d_1 (MaxPooling  (None, 36, 36, 64)       0         \n",
            " 2D)                                                             \n",
            "                                                                 \n",
            " conv2d_2 (Conv2D)           (None, 34, 34, 128)       73856     \n",
            "                                                                 \n",
            " max_pooling2d_2 (MaxPooling  (None, 17, 17, 128)      0         \n",
            " 2D)                                                             \n",
            "                                                                 \n",
            " flatten (Flatten)           (None, 36992)             0         \n",
            "                                                                 \n",
            " dropout (Dropout)           (None, 36992)             0         \n",
            "                                                                 \n",
            " dense (Dense)               (None, 512)               18940416  \n",
            "                                                                 \n",
            " dense_1 (Dense)             (None, 3)                 1539      \n",
            "                                                                 \n",
            "=================================================================\n",
            "Total params: 19,035,203\n",
            "Trainable params: 19,035,203\n",
            "Non-trainable params: 0\n",
            "_________________________________________________________________\n"
          ]
        }
      ],
      "source": [
        "model = tf.keras.models.Sequential([\n",
        "    # Note the input shape is the desired size of the image 150x150 with 3 bytes color\n",
        "    # This is the first convolution\n",
        "    tf.keras.layers.Conv2D(32, (3,3), activation='relu', input_shape=(150, 150, 3)),\n",
        "    tf.keras.layers.MaxPooling2D(2, 2),\n",
        "    # The second convolution\n",
        "    tf.keras.layers.Conv2D(64, (3,3), activation='relu'),\n",
        "    tf.keras.layers.MaxPooling2D(2,2),\n",
        "    # The third convolution\n",
        "    tf.keras.layers.Conv2D(128, (3,3), activation='relu'),\n",
        "    tf.keras.layers.MaxPooling2D(2,2),\n",
        "    # The fourth convolution\n",
        "    #tf.keras.layers.Conv2D(128, (3,3), activation='relu'),\n",
        "    #tf.keras.layers.MaxPooling2D(2,2),\n",
        "    # Flatten the results to feed into a DNN\n",
        "    tf.keras.layers.Flatten(),\n",
        "    tf.keras.layers.Dropout(0.2),\n",
        "    # 512 neuron hidden layer\n",
        "    tf.keras.layers.Dense(512, activation='relu'),\n",
        "    tf.keras.layers.Dense(3, activation='softmax')\n",
        "])\n",
        "\n",
        "\n",
        "\n",
        "model.summary()"
      ]
    },
    {
      "attachments": {},
      "cell_type": "markdown",
      "metadata": {
        "id": "ma-vQ6yC039x"
      },
      "source": [
        "Compilación del Modelo, Entrenamiento del Modelo y Guardado de Pesos de los parámetros"
      ]
    },
    {
      "cell_type": "code",
      "execution_count": 11,
      "metadata": {
        "id": "ZXZ40N5S02hJ"
      },
      "outputs": [],
      "source": [
        "model.compile(loss = 'categorical_crossentropy', optimizer='rmsprop', metrics=['accuracy'])"
      ]
    },
    {
      "cell_type": "code",
      "execution_count": 12,
      "metadata": {
        "colab": {
          "base_uri": "https://localhost:8080/"
        },
        "id": "BhABnIUli0N-",
        "outputId": "51b44e8d-1d39-4f1f-c2dc-26aaeb7db7fd"
      },
      "outputs": [
        {
          "name": "stdout",
          "output_type": "stream",
          "text": [
            "Epoch 1/20\n"
          ]
        },
        {
          "name": "stderr",
          "output_type": "stream",
          "text": [
            "2023-05-16 16:22:13.491028: I tensorflow/core/common_runtime/executor.cc:1197] [/device:CPU:0] (DEBUG INFO) Executor start aborting (this does not indicate an error and you can ignore this message): INVALID_ARGUMENT: You must feed a value for placeholder tensor 'Placeholder/_0' with dtype int32\n",
            "\t [[{{node Placeholder/_0}}]]\n",
            "2023-05-16 16:22:37.429733: I tensorflow/core/common_runtime/executor.cc:1197] [/device:CPU:0] (DEBUG INFO) Executor start aborting (this does not indicate an error and you can ignore this message): INVALID_ARGUMENT: You must feed a value for placeholder tensor 'Placeholder/_0' with dtype int32\n",
            "\t [[{{node Placeholder/_0}}]]\n"
          ]
        },
        {
          "name": "stdout",
          "output_type": "stream",
          "text": [
            "20/20 - 25s - loss: 1.2163 - accuracy: 0.3611 - val_loss: 1.0867 - val_accuracy: 0.3333 - 25s/epoch - 1s/step\n",
            "Epoch 2/20\n",
            "20/20 - 24s - loss: 1.1045 - accuracy: 0.3976 - val_loss: 0.9636 - val_accuracy: 0.3817 - 24s/epoch - 1s/step\n",
            "Epoch 3/20\n",
            "20/20 - 22s - loss: 1.0266 - accuracy: 0.4849 - val_loss: 0.7721 - val_accuracy: 0.6828 - 22s/epoch - 1s/step\n",
            "Epoch 4/20\n",
            "20/20 - 23s - loss: 0.9858 - accuracy: 0.5171 - val_loss: 0.6798 - val_accuracy: 0.7715 - 23s/epoch - 1s/step\n",
            "Epoch 5/20\n",
            "20/20 - 23s - loss: 0.8095 - accuracy: 0.6357 - val_loss: 0.6701 - val_accuracy: 0.6398 - 23s/epoch - 1s/step\n",
            "Epoch 6/20\n",
            "20/20 - 23s - loss: 0.8113 - accuracy: 0.6694 - val_loss: 0.6605 - val_accuracy: 0.6855 - 23s/epoch - 1s/step\n",
            "Epoch 7/20\n",
            "20/20 - 23s - loss: 0.6218 - accuracy: 0.7187 - val_loss: 0.3644 - val_accuracy: 0.8978 - 23s/epoch - 1s/step\n",
            "Epoch 8/20\n",
            "20/20 - 23s - loss: 0.5620 - accuracy: 0.7627 - val_loss: 0.2932 - val_accuracy: 0.8790 - 23s/epoch - 1s/step\n",
            "Epoch 9/20\n",
            "20/20 - 23s - loss: 0.5012 - accuracy: 0.7798 - val_loss: 0.3391 - val_accuracy: 0.8629 - 23s/epoch - 1s/step\n",
            "Epoch 10/20\n",
            "20/20 - 23s - loss: 0.4466 - accuracy: 0.8183 - val_loss: 0.2458 - val_accuracy: 0.9032 - 23s/epoch - 1s/step\n",
            "Epoch 11/20\n",
            "20/20 - 25s - loss: 0.4574 - accuracy: 0.8175 - val_loss: 0.1330 - val_accuracy: 0.9839 - 25s/epoch - 1s/step\n",
            "Epoch 12/20\n",
            "20/20 - 23s - loss: 0.4196 - accuracy: 0.8508 - val_loss: 0.2670 - val_accuracy: 0.8790 - 23s/epoch - 1s/step\n",
            "Epoch 13/20\n",
            "20/20 - 22s - loss: 0.2625 - accuracy: 0.9024 - val_loss: 0.1027 - val_accuracy: 0.9597 - 22s/epoch - 1s/step\n",
            "Epoch 14/20\n",
            "20/20 - 22s - loss: 0.3112 - accuracy: 0.8802 - val_loss: 0.0811 - val_accuracy: 0.9866 - 22s/epoch - 1s/step\n",
            "Epoch 15/20\n",
            "20/20 - 22s - loss: 0.1826 - accuracy: 0.9325 - val_loss: 0.0921 - val_accuracy: 0.9597 - 22s/epoch - 1s/step\n",
            "Epoch 16/20\n",
            "20/20 - 22s - loss: 0.1773 - accuracy: 0.9369 - val_loss: 0.3628 - val_accuracy: 0.8629 - 22s/epoch - 1s/step\n",
            "Epoch 17/20\n",
            "20/20 - 22s - loss: 0.2128 - accuracy: 0.9282 - val_loss: 0.0587 - val_accuracy: 0.9812 - 22s/epoch - 1s/step\n",
            "Epoch 18/20\n",
            "20/20 - 22s - loss: 0.2216 - accuracy: 0.9214 - val_loss: 0.0667 - val_accuracy: 0.9812 - 22s/epoch - 1s/step\n",
            "Epoch 19/20\n",
            "20/20 - 22s - loss: 0.1088 - accuracy: 0.9651 - val_loss: 0.0662 - val_accuracy: 0.9785 - 22s/epoch - 1s/step\n",
            "Epoch 20/20\n",
            "20/20 - 22s - loss: 0.2094 - accuracy: 0.9266 - val_loss: 0.1384 - val_accuracy: 0.9597 - 22s/epoch - 1s/step\n"
          ]
        }
      ],
      "source": [
        "history = model.fit(\n",
        "    train_generator,\n",
        "    epochs = 20,\n",
        "    validation_data = validation_generator,\n",
        "    verbose = 2)"
      ]
    },
    {
      "cell_type": "code",
      "execution_count": 15,
      "metadata": {
        "id": "JKP482xmk5Oc"
      },
      "outputs": [
        {
          "name": "stderr",
          "output_type": "stream",
          "text": [
            "2023-05-16 16:49:22.847367: I tensorflow/core/common_runtime/executor.cc:1197] [/device:CPU:0] (DEBUG INFO) Executor start aborting (this does not indicate an error and you can ignore this message): INVALID_ARGUMENT: You must feed a value for placeholder tensor 'Placeholder/_0' with dtype int32\n",
            "\t [[{{node Placeholder/_0}}]]\n"
          ]
        },
        {
          "name": "stdout",
          "output_type": "stream",
          "text": [
            "3/3 [==============================] - 1s 336ms/step - loss: 0.1384 - accuracy: 0.9597\n"
          ]
        }
      ],
      "source": [
        "score = model.evaluate(validation_generator)"
      ]
    },
    {
      "attachments": {},
      "cell_type": "markdown",
      "metadata": {
        "id": "q_xFcLxxAOnb"
      },
      "source": [
        "Hacemos un grafico con la precisión de entrenamiento y validación:"
      ]
    },
    {
      "cell_type": "code",
      "execution_count": 16,
      "metadata": {
        "id": "6nHmxIXK3M-W"
      },
      "outputs": [
        {
          "data": {
            "image/png": "[encoded data removed]",
            "text/plain": [
              "<Figure size 640x480 with 1 Axes>"
            ]
          },
          "metadata": {},
          "output_type": "display_data"
        },
        {
          "data": {
            "text/plain": [
              "<Figure size 640x480 with 0 Axes>"
            ]
          },
          "metadata": {},
          "output_type": "display_data"
        }
      ],
      "source": [
        "import matplotlib.pyplot as plt\n",
        "acc = history.history['accuracy']\n",
        "val_acc = history.history['val_accuracy']\n",
        "loss = history.history['loss']\n",
        "val_loss = history.history['val_loss']\n",
        "\n",
        "epochs = range(len(acc))\n",
        "\n",
        "plt.plot(epochs, acc, 'r', label='Training accuracy')\n",
        "plt.plot(epochs, val_acc, 'b', label='Validation accuracy')\n",
        "plt.title('Training and validation accuracy')\n",
        "plt.legend(loc=0)\n",
        "plt.figure()\n",
        "\n",
        "\n",
        "plt.show()"
      ]
    },
    {
      "attachments": {},
      "cell_type": "markdown",
      "metadata": {
        "id": "GueLa27M1YYW"
      },
      "source": [
        "# Uso del modelo para predecir imágenes"
      ]
    },
    {
      "cell_type": "code",
      "execution_count": null,
      "metadata": {
        "id": "7d6HJoPP3O90"
      },
      "outputs": [],
      "source": [
        "# import numpy as np\n",
        "# from google.colab import files\n",
        "# from keras.preprocessing import image\n",
        "\n",
        "# uploaded = files.upload()\n",
        "\n",
        "# for fn in uploaded.keys():\n",
        " \n",
        "#   # predicting images\n",
        "#   path = fn\n",
        "#   img = image.load_img(path, target_size=(150, 150))\n",
        "#   x = image.img_to_array(img)\n",
        "#   x = np.expand_dims(x, axis=0)\n",
        "\n",
        "#   images = np.vstack([x])\n",
        "#   classes = model.predict(images, batch_size=10)\n",
        "#   print(fn)\n",
        "#   print(classes)"
      ]
    }
  ],
  "metadata": {
    "accelerator": "GPU",
    "colab": {
      "gpuType": "T4",
      "provenance": []
    },
    "gpuClass": "standard",
    "kernelspec": {
      "display_name": "Python 3",
      "name": "python3"
    },
    "language_info": {
      "codemirror_mode": {
        "name": "ipython",
        "version": 3
      },
      "file_extension": ".py",
      "mimetype": "text/x-python",
      "name": "python",
      "nbconvert_exporter": "python",
      "pygments_lexer": "ipython3",
      "version": "3.10.6"
    }
  },
  "nbformat": 4,
  "nbformat_minor": 0
}
