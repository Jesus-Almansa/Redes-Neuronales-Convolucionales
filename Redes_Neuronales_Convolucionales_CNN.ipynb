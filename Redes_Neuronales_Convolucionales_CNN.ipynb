{
 "cells": [
  {
   "attachments": {},
   "cell_type": "markdown",
   "metadata": {
    "id": "mX8gZlVyCCbz"
   },
   "source": [
    "# REDES NEURONALES CONVOLUCIONALES\n",
    "\n",
    "---\n",
    "\n",
    "En esta actividad, vamos a trabajar con Convolutional Neural Networks para resolver un problema de clasificación de imágenes. En particular, vamos a clasificar imágenes de personajes de la conocida serie de los Simpsons.\n",
    "\n",
    "Como las CNN profundas son un tipo de modelo bastante avanzado y computacionalmente costoso, se recomienda hacer la práctica en Google Colaboratory con soporte para GPUs. En [este enlace](https://medium.com/deep-learning-turkey/google-colab-free-gpu-tutorial-e113627b9f5d) se explica cómo activar un entorno con GPUs. *Nota: para leer las imágenes y estandarizarlas al mismo tamaño se usa la librería opencv. Esta ĺibrería está ya instalada en el entorno de Colab, pero si trabajáis de manera local tendréis que instalarla.*\n",
    "\n",
    "<center><img src=\"https://i.imgur.com/i8zIGqX.jpg\" style=\"text-align: center\" height=\"300px\"></center>\n",
    "\n",
    "El dataset a utilizar consiste en imágenes de personajes de los Simpsons extraídas directamente de capítulos de la serie. Este dataset ha sido recopilado por [Alexandre Attia](http://www.alexattia.fr/) y es más complejo que el dataset de Fashion MNIST que hemos utilizado hasta ahora. Aparte de tener más clases (vamos a utilizar los 18 personajes con más imágenes), los personajes pueden aparecer en distintas poses, en distintas posiciones de la imagen o con otros personajes en pantalla (si bien el personaje a clasificar siempre aparece en la posición predominante).\n",
    "\n",
    "El dataset de training puede ser descargado desde aquí:\n",
    "\n",
    "[Training data](https://onedrive.live.com/download?cid=C506CF0A4F373B0F&resid=C506CF0A4F373B0F%219337&authkey=AMzI92bJPx8Sd60) (~500MB)\n",
    "\n",
    "Por otro lado, el dataset de test puede ser descargado de aquí:\n",
    "\n",
    "[Test data](https://onedrive.live.com/download?cid=C506CF0A4F373B0F&resid=C506CF0A4F373B0F%219341&authkey=ANnjK3Uq1FhuAe8) (~10MB)\n",
    "\n",
    "Antes de empezar la práctica, se recomienda descargar las imágenes y echarlas un vistazo.\n"
   ]
  },
  {
   "attachments": {},
   "cell_type": "markdown",
   "metadata": {
    "id": "QI274F8LQC59"
   },
   "source": [
    "## Carga de los datos"
   ]
  },
  {
   "cell_type": "code",
   "execution_count": 14,
   "metadata": {
    "id": "D7tKOZ9BFfki"
   },
   "outputs": [],
   "source": [
    "import cv2\n",
    "import os\n",
    "import numpy as np \n",
    "import keras\n",
    "from tensorflow import keras\n",
    "import matplotlib.pyplot as plt\n",
    "import glob\n",
    "import tensorflow as tf\n",
    "\n",
    "import os\n",
    "# os.environ['TF_CPP_MIN_LOG_LEVEL'] = '2'\n",
    "os.environ['TF_ENABLE_ONEDNN_OPTS'] = '0'"
   ]
  },
  {
   "cell_type": "code",
   "execution_count": 2,
   "metadata": {},
   "outputs": [],
   "source": [
    "# Primero, bajamos los datos de entrenamiento\n",
    "keras.utils.get_file(fname=\"simpsons_train.tar.gz\", \n",
    "                    origin=\"https://onedrive.live.com/download?cid=C506CF0A4F373B0F&resid=C506CF0A4F373B0F%219337&authkey=AMzI92bJPx8Sd60\")\n",
    "\n",
    "# Descomprimimos el archivo\n",
    "!tar -xzf /home/jesus/.keras/datasets/simpsons_train.tar.gz -C /home/jesus/.keras/datasets\n",
    "\n",
    "\n",
    "\n",
    "# Hacemos lo mismo con los datos de test\n",
    "keras.utils.get_file(fname=\"simpsons_test.tar.gz\", \n",
    "                    origin=\"https://onedrive.live.com/download?cid=C506CF0A4F373B0F&resid=C506CF0A4F373B0F%219341&authkey=ANnjK3Uq1FhuAe8\")\n",
    "!tar -xzf /home/jesus/.keras/datasets/simpsons_test.tar.gz -C /home/jesus/.keras/datasets\n"
   ]
  },
  {
   "cell_type": "code",
   "execution_count": 17,
   "metadata": {
    "id": "_HIhp512sPUJ"
   },
   "outputs": [],
   "source": [
    "# Descomprimimos el archivo en tmp para visualizar\n",
    "!tar -xzf /home/jesus/.keras/datasets/simpsons_test.tar.gz -C /tmp/simpsons"
   ]
  },
  {
   "cell_type": "code",
   "execution_count": 4,
   "metadata": {
    "id": "hMFhe3COFwSD"
   },
   "outputs": [],
   "source": [
    "# Esta variable contiene un mapeo de número de clase a personaje.\n",
    "# Utilizamos sólo los 18 personajes del dataset que tienen más imágenes.\n",
    "MAP_CHARACTERS = {\n",
    "    0: 'abraham_grampa_simpson', 1: 'apu_nahasapeemapetilon', 2: 'bart_simpson',\n",
    "    3: 'charles_montgomery_burns', 4: 'chief_wiggum', 5: 'comic_book_guy', 6: 'edna_krabappel', \n",
    "    7: 'homer_simpson', 8: 'kent_brockman', 9: 'krusty_the_clown', 10: 'lisa_simpson', \n",
    "    11: 'marge_simpson', 12: 'milhouse_van_houten', 13: 'moe_szyslak', \n",
    "    14: 'ned_flanders', 15: 'nelson_muntz', 16: 'principal_skinner', 17: 'sideshow_bob'\n",
    "}\n",
    "\n",
    "# Vamos a standarizar todas las imágenes a tamaño 64x64\n",
    "IMG_SIZE = 60"
   ]
  },
  {
   "cell_type": "code",
   "execution_count": 5,
   "metadata": {
    "id": "5bJ0NsbCbupF"
   },
   "outputs": [],
   "source": [
    "def load_train_set(dirname, map_characters, verbose=True):\n",
    "    \"\"\"Esta función carga los datos de training en imágenes.\n",
    "    \n",
    "    Como las imágenes tienen tamaños distintas, utilizamos la librería opencv\n",
    "    para hacer un resize y adaptarlas todas a tamaño IMG_SIZE x IMG_SIZE.\n",
    "    \n",
    "    Args:\n",
    "        dirname: directorio completo del que leer los datos\n",
    "        map_characters: variable de mapeo entre labels y personajes\n",
    "        verbose: si es True, muestra información de las imágenes cargadas\n",
    "     \n",
    "    Returns:\n",
    "        X, y: X es un array con todas las imágenes cargadas con tamaño\n",
    "                IMG_SIZE x IMG_SIZE\n",
    "              y es un array con las labels de correspondientes a cada imagen\n",
    "    \"\"\"\n",
    "    X_train = []\n",
    "    y_train = []\n",
    "    for label, character in map_characters.items():        \n",
    "        files = os.listdir(os.path.join(dirname, character))\n",
    "        images = [file for file in files if file.endswith(\"jpg\")]\n",
    "        if verbose:\n",
    "          print(\"Leyendo {} imágenes encontradas de {}\".format(len(images), character))\n",
    "        for image_name in images:\n",
    "            image = cv2.imread(os.path.join(dirname, character, image_name))\n",
    "            X_train.append(cv2.resize(image,(IMG_SIZE, IMG_SIZE)))\n",
    "            y_train.append(label)\n",
    "    return np.array(X_train), np.array(y_train)"
   ]
  },
  {
   "cell_type": "code",
   "execution_count": 6,
   "metadata": {
    "id": "NslxhnnDK6uA"
   },
   "outputs": [],
   "source": [
    "def load_test_set(dirname, map_characters, verbose=True):\n",
    "    \"\"\"Esta función funciona de manera equivalente a la función load_train_set\n",
    "    pero cargando los datos de test.\"\"\"\n",
    "    X_test = []\n",
    "    y_test = []\n",
    "    reverse_dict = {v: k for k, v in map_characters.items()}\n",
    "    for filename in glob.glob(dirname + '/*.*'):\n",
    "        char_name = \"_\".join(filename.split('/')[-1].split('_')[:-1])\n",
    "        if char_name in reverse_dict:\n",
    "            image = cv2.imread(filename)\n",
    "            image = cv2.resize(image, (IMG_SIZE, IMG_SIZE))\n",
    "            X_test.append(image)\n",
    "            y_test.append(reverse_dict[char_name])\n",
    "    if verbose:\n",
    "        print(\"Leídas {} imágenes de test\".format(len(X_test)))\n",
    "    return np.array(X_test), np.array(y_test)\n"
   ]
  },
  {
   "cell_type": "code",
   "execution_count": 43,
   "metadata": {
    "colab": {
     "base_uri": "https://localhost:8080/"
    },
    "id": "WVWqKxFcbwTu",
    "outputId": "92f5a4ba-9979-4023-e657-beb02ed17a4a"
   },
   "outputs": [
    {
     "name": "stdout",
     "output_type": "stream",
     "text": [
      "Leyendo 913 imágenes encontradas de abraham_grampa_simpson\n",
      "Leyendo 623 imágenes encontradas de apu_nahasapeemapetilon\n",
      "Leyendo 1342 imágenes encontradas de bart_simpson\n",
      "Leyendo 1193 imágenes encontradas de charles_montgomery_burns\n",
      "Leyendo 986 imágenes encontradas de chief_wiggum\n",
      "Leyendo 469 imágenes encontradas de comic_book_guy\n",
      "Leyendo 457 imágenes encontradas de edna_krabappel\n",
      "Leyendo 2246 imágenes encontradas de homer_simpson\n",
      "Leyendo 498 imágenes encontradas de kent_brockman\n",
      "Leyendo 1206 imágenes encontradas de krusty_the_clown\n",
      "Leyendo 1354 imágenes encontradas de lisa_simpson\n",
      "Leyendo 1291 imágenes encontradas de marge_simpson\n",
      "Leyendo 1079 imágenes encontradas de milhouse_van_houten\n",
      "Leyendo 1452 imágenes encontradas de moe_szyslak\n",
      "Leyendo 1454 imágenes encontradas de ned_flanders\n",
      "Leyendo 358 imágenes encontradas de nelson_muntz\n",
      "Leyendo 1194 imágenes encontradas de principal_skinner\n",
      "Leyendo 877 imágenes encontradas de sideshow_bob\n",
      "Leídas 890 imágenes de test\n"
     ]
    }
   ],
   "source": [
    "# Cargamos los datos. Si no estás trabajando en colab, cambia los paths por\n",
    "# los de los ficheros donde hayas descargado los datos.\n",
    "DATASET_TRAIN_PATH = \"/home/jesus/.keras/datasets/simpsons\"\n",
    "DATASET_TEST_PATH = \"/home/jesus/.keras/datasets/simpsons_testset\"\n",
    "\n",
    "X_train, y_train = load_train_set(DATASET_TRAIN_PATH, MAP_CHARACTERS)\n",
    "X_test, y_test = load_test_set(DATASET_TEST_PATH, MAP_CHARACTERS)"
   ]
  },
  {
   "cell_type": "code",
   "execution_count": 49,
   "metadata": {
    "id": "2GY4vTFyfffv"
   },
   "outputs": [],
   "source": [
    "# Vamos a barajar aleatoriamente los datos. Esto es importante ya que si no\n",
    "# lo hacemos y, por ejemplo, cogemos el 20% de los datos finales como validation\n",
    "# set, estaremos utilizando solo un pequeño número de personajes, ya que\n",
    "# las imágenes se leen secuencialmente personaje a personaje.\n",
    "perm = np.random.permutation(len(X_train))\n",
    "X_train, y_train = X_train[perm], y_train[perm]"
   ]
  },
  {
   "cell_type": "code",
   "execution_count": 50,
   "metadata": {},
   "outputs": [
    {
     "data": {
      "text/plain": [
       "array([18582, 11899, 11317, ...,  5899,   714, 18822])"
      ]
     },
     "execution_count": 50,
     "metadata": {},
     "output_type": "execute_result"
    }
   ],
   "source": [
    "perm"
   ]
  },
  {
   "cell_type": "code",
   "execution_count": 51,
   "metadata": {
    "colab": {
     "base_uri": "https://localhost:8080/",
     "height": 285
    },
    "id": "IOoQ7_0GrylF",
    "outputId": "d319840d-1397-444a-ed11-19aa94f59438"
   },
   "outputs": [
    {
     "data": {
      "text/plain": [
       "<matplotlib.image.AxesImage at 0x7fe13a244f70>"
      ]
     },
     "execution_count": 51,
     "metadata": {},
     "output_type": "execute_result"
    },
    {
     "data": {
      "image/png": "[encoded data removed]",
      "text/plain": [
       "<Figure size 640x480 with 1 Axes>"
      ]
     },
     "metadata": {},
     "output_type": "display_data"
    }
   ],
   "source": [
    "plt.imshow(X_train[4]) # recordad que siempre es preferible trabajar en blanco y negro\n"
   ]
  },
  {
   "attachments": {},
   "cell_type": "markdown",
   "metadata": {
    "id": "pBbmz9DMhVhc"
   },
   "source": [
    "## Ejercicio\n",
    "\n",
    "Utilizando Convolutional Neural Networks con Keras, entrenar un clasificador que sea capaz de reconocer personajes en imágenes de los Simpsons con una accuracy en el dataset de test de, al menos, **85%**. Redactar un informe analizando varias de las alternativas probadas y los resultados obtenidos.\n",
    "\n",
    "A continuación se detallan una serie de aspectos orientativos que podrían ser analizados en vuestro informe (no es necesario tratar todos ellos ni mucho menos, esto son ideas orientativas de aspectos que podéis explorar):\n",
    "\n",
    "*   Análisis de los datos a utilizar.\n",
    "*   Análisis de resultados, obtención de métricas de *precision* y *recall* por clase y análisis de qué clases obtienen mejores o peores resultados.\n",
    "*   Análisis visual de los errores de la red. ¿Qué tipo de imágenes o qué personajes dan más problemas a nuestro modelo?\n",
    "*   Comparación de modelos CNNs con un modelo de Fully Connected para este problema.\n",
    "*   Utilización de distintas arquitecturas CNNs, comentando aspectos como su profundidad, hiperparámetros utilizados, optimizador, uso de técnicas de regularización, *batch normalization*, etc.\n",
    "*   [ *algo más difícil* ] Utilización de *data augmentation*. Esto puede conseguirse con la clase [ImageDataGenerator](https://keras.io/preprocessing/image/#imagedatagenerator-class) de Keras.\n",
    "\n",
    "Notas: \n",
    "* Recuerda partir los datos en training/validation para tener una buena estimación de los valores que nuestro modelo tendrá en los datos de test, así como comprobar que no estamos cayendo en overfitting. Una posible partición puede ser 80 / 20.\n",
    "* No es necesario mostrar en el notebook las trazas de entrenamiento de todos los modelos entrenados, si bien una buena idea seria guardar gráficas de esos entrenamientos para el análisis. Sin embargo, **se debe mostrar el entrenamiento completo del mejor modelo obtenido y la evaluación de los datos de test con este modelo**.\n",
    "* Las imágenes **no están normalizadas**. Hay que normalizarlas como hemos hecho en trabajos anteriores.\n",
    "* El test set del problema tiene imágenes un poco más \"fáciles\", por lo que es posible encontrarse con métricas en el test set bastante mejores que en el training set."
   ]
  },
  {
   "cell_type": "code",
   "execution_count": 52,
   "metadata": {
    "id": "PyqZAqGTrkTL"
   },
   "outputs": [
    {
     "data": {
      "text/plain": [
       "0.04686183656276327"
      ]
     },
     "execution_count": 52,
     "metadata": {},
     "output_type": "execute_result"
    }
   ],
   "source": [
    "len(X_test)/len(X_train)\n"
   ]
  },
  {
   "cell_type": "code",
   "execution_count": null,
   "metadata": {
    "id": "A-XZdD0juRQM"
   },
   "outputs": [],
   "source": []
  },
  {
   "cell_type": "code",
   "execution_count": null,
   "metadata": {
    "id": "6AEVl-3quRSt"
   },
   "outputs": [],
   "source": []
  }
 ],
 "metadata": {
  "accelerator": "GPU",
  "colab": {
   "collapsed_sections": [],
   "name": "Actividad_2_Redes_Neuronales_Convolucionales_CNN.ipynb",
   "provenance": []
  },
  "kernelspec": {
   "display_name": "Python 3 (ipykernel)",
   "language": "python",
   "name": "python3"
  },
  "language_info": {
   "codemirror_mode": {
    "name": "ipython",
    "version": 3
   },
   "file_extension": ".py",
   "mimetype": "text/x-python",
   "name": "python",
   "nbconvert_exporter": "python",
   "pygments_lexer": "ipython3",
   "version": "3.10.6"
  }
 },
 "nbformat": 4,
 "nbformat_minor": 1
}
